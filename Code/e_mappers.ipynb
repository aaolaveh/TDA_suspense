{
 "cells": [
  {
   "cell_type": "code",
   "execution_count": 1,
   "metadata": {},
   "outputs": [
    {
     "name": "stderr",
     "output_type": "stream",
     "text": [
      "\n",
      "Attaching package: ‘igraph’\n",
      "\n",
      "\n",
      "The following objects are masked from ‘package:stats’:\n",
      "\n",
      "    decompose, spectrum\n",
      "\n",
      "\n",
      "The following object is masked from ‘package:base’:\n",
      "\n",
      "    union\n",
      "\n",
      "\n",
      "\n",
      "Attaching package: ‘matlab’\n",
      "\n",
      "\n",
      "The following object is masked from ‘package:stats’:\n",
      "\n",
      "    reshape\n",
      "\n",
      "\n",
      "The following objects are masked from ‘package:utils’:\n",
      "\n",
      "    find, fix\n",
      "\n",
      "\n",
      "The following object is masked from ‘package:base’:\n",
      "\n",
      "    sum\n",
      "\n",
      "\n",
      "Loading required package: plotrix\n",
      "\n"
     ]
    }
   ],
   "source": [
    "library(\"Mapper\")\n",
    "library(\"igraph\")\n",
    "library(\"RcppCNPy\")\n",
    "library(\"pals\")\n",
    "library(\"stringr\")\n",
    "library(\"grid\")\n",
    "library(\"matlab\")\n",
    "require(\"plotrix\") \n",
    "source(\"functions-R.R\") #Functions\n",
    "library(\"lattice\")"
   ]
  },
  {
   "cell_type": "markdown",
   "metadata": {},
   "source": [
    "## Colors"
   ]
  },
  {
   "cell_type": "code",
   "execution_count": 2,
   "metadata": {},
   "outputs": [],
   "source": [
    "show_palette <- function(colors) {\n",
    "  par(pin=c(6,1),mai=c(.5,.5,.5,.5))\n",
    "  image(1:n, 1, as.matrix(1:n), col = colors, \n",
    "    xlab = \"\", ylab = \"\", xaxt = \"n\", \n",
    "    yaxt = \"n\", bty = \"n\")\n",
    "}"
   ]
  },
  {
   "cell_type": "code",
   "execution_count": 3,
   "metadata": {},
   "outputs": [],
   "source": [
    "n<-176\n",
    "#show_palette(jet.colors(n))\n",
    "colors1=list(jet.colors(n))"
   ]
  },
  {
   "cell_type": "code",
   "execution_count": 4,
   "metadata": {},
   "outputs": [
    {
     "data": {
      "image/png": "[encoded data removed]",
      "text/plain": [
       "plot without title"
      ]
     },
     "metadata": {
      "image/png": {
       "height": 420,
       "width": 420
      }
     },
     "output_type": "display_data"
    }
   ],
   "source": [
    "u <- 25\n",
    "#show_palette(colors3)\n",
    "show_palette(hcl.colors(n, palette = \"PurpOr\")[rev(1:n)])\n",
    "colors2=list(hcl.colors(n, palette = \"PurpOr\")[rev(1:n)])\n",
    "# show_palette(hcl.colors(n+u, palette = \"purples\")[rev(1:n)])\n",
    "# colors2=list(hcl.colors(n+u, palette = \"purples\")[rev(1:n)])"
   ]
  },
  {
   "cell_type": "code",
   "execution_count": 5,
   "metadata": {},
   "outputs": [],
   "source": [
    "# n <- 251\n",
    "# u <- 76\n",
    "# show_palette(rainbow(n)[rev(1:(n+1-u))])\n",
    "# length(1:(n+1-u))\n",
    "# colors1=list(rainbow(n)[rev(1:(n+1-u))])"
   ]
  },
  {
   "cell_type": "code",
   "execution_count": 6,
   "metadata": {},
   "outputs": [],
   "source": [
    "colors=list(colors2,colors1)"
   ]
  },
  {
   "cell_type": "code",
   "execution_count": 7,
   "metadata": {},
   "outputs": [
    {
     "data": {
      "text/html": [
       "193"
      ],
      "text/latex": [
       "193"
      ],
      "text/markdown": [
       "193"
      ],
      "text/plain": [
       "[1] 193"
      ]
     },
     "metadata": {},
     "output_type": "display_data"
    }
   ],
   "source": [
    "#Suspense data\n",
    "suspense=npyLoad(\"../Data/avg_suspense.npy\")\n",
    "length(suspense)"
   ]
  },
  {
   "cell_type": "markdown",
   "metadata": {},
   "source": [
    "## Filters"
   ]
  },
  {
   "cell_type": "code",
   "execution_count": 8,
   "metadata": {},
   "outputs": [
    {
     "data": {
      "text/html": [
       "<style>\n",
       ".list-inline {list-style: none; margin:0; padding: 0}\n",
       ".list-inline>li {display: inline-block}\n",
       ".list-inline>li:not(:last-child)::after {content: \"\\00b7\"; padding: 0 .5ex}\n",
       "</style>\n",
       "<ol class=list-inline><li>'../Data/filts/all_l1_iso_rand.npy'</li><li>'../Data/filts/all_l1-nothres_cmds.npy'</li><li>'../Data/filts/all_l1-nothres_iso.npy'</li><li>'../Data/filts/all_l1-nothres_se.npy'</li><li>'../Data/filts/all_l1-thres_cmds.npy'</li><li>'../Data/filts/all_l1-thres_iso.npy'</li><li>'../Data/filts/all_l1-thres_se.npy'</li></ol>\n"
      ],
      "text/latex": [
       "\\begin{enumerate*}\n",
       "\\item '../Data/filts/all\\_l1\\_iso\\_rand.npy'\n",
       "\\item '../Data/filts/all\\_l1-nothres\\_cmds.npy'\n",
       "\\item '../Data/filts/all\\_l1-nothres\\_iso.npy'\n",
       "\\item '../Data/filts/all\\_l1-nothres\\_se.npy'\n",
       "\\item '../Data/filts/all\\_l1-thres\\_cmds.npy'\n",
       "\\item '../Data/filts/all\\_l1-thres\\_iso.npy'\n",
       "\\item '../Data/filts/all\\_l1-thres\\_se.npy'\n",
       "\\end{enumerate*}\n"
      ],
      "text/markdown": [
       "1. '../Data/filts/all_l1_iso_rand.npy'\n",
       "2. '../Data/filts/all_l1-nothres_cmds.npy'\n",
       "3. '../Data/filts/all_l1-nothres_iso.npy'\n",
       "4. '../Data/filts/all_l1-nothres_se.npy'\n",
       "5. '../Data/filts/all_l1-thres_cmds.npy'\n",
       "6. '../Data/filts/all_l1-thres_iso.npy'\n",
       "7. '../Data/filts/all_l1-thres_se.npy'\n",
       "\n",
       "\n"
      ],
      "text/plain": [
       "[1] \"../Data/filts/all_l1_iso_rand.npy\"    \n",
       "[2] \"../Data/filts/all_l1-nothres_cmds.npy\"\n",
       "[3] \"../Data/filts/all_l1-nothres_iso.npy\" \n",
       "[4] \"../Data/filts/all_l1-nothres_se.npy\"  \n",
       "[5] \"../Data/filts/all_l1-thres_cmds.npy\"  \n",
       "[6] \"../Data/filts/all_l1-thres_iso.npy\"   \n",
       "[7] \"../Data/filts/all_l1-thres_se.npy\"    "
      ]
     },
     "metadata": {},
     "output_type": "display_data"
    }
   ],
   "source": [
    "filters=Sys.glob(\"../Data/filts/*.npy\")\n",
    "filters"
   ]
  },
  {
   "cell_type": "code",
   "execution_count": 15,
   "metadata": {},
   "outputs": [
    {
     "data": {
      "text/html": [
       "<dl>\n",
       "\t<dt>$part</dt>\n",
       "\t\t<dd>'all'</dd>\n",
       "\t<dt>$metric</dt>\n",
       "\t\t<dd>'l1-thres'</dd>\n",
       "\t<dt>$filter</dt>\n",
       "\t\t<dd>'iso'</dd>\n",
       "\t<dt>$dist_file</dt>\n",
       "\t\t<dd>'../Data/dist/all_l1-thres.npy'</dd>\n",
       "\t<dt>$file</dt>\n",
       "\t\t<dd>'../Data/mapper/all_l1-thres_iso.rds'</dd>\n",
       "\t<dt>$pdf</dt>\n",
       "\t\t<dd>'../Imagenes/mapper_graphs/mapper_all_l1-thres_iso.pdf'</dd>\n",
       "\t<dt>$title</dt>\n",
       "\t\t<dd><span style=white-space:pre-wrap>'Mapper for part =  all , metric= l1-thres , filter = iso'</span></dd>\n",
       "</dl>\n"
      ],
      "text/latex": [
       "\\begin{description}\n",
       "\\item[\\$part] 'all'\n",
       "\\item[\\$metric] 'l1-thres'\n",
       "\\item[\\$filter] 'iso'\n",
       "\\item[\\$dist\\_file] '../Data/dist/all\\_l1-thres.npy'\n",
       "\\item[\\$file] '../Data/mapper/all\\_l1-thres\\_iso.rds'\n",
       "\\item[\\$pdf] '../Imagenes/mapper\\_graphs/mapper\\_all\\_l1-thres\\_iso.pdf'\n",
       "\\item[\\$title] 'Mapper for part =  all , metric= l1-thres , filter = iso'\n",
       "\\end{description}\n"
      ],
      "text/markdown": [
       "$part\n",
       ":   'all'\n",
       "$metric\n",
       ":   'l1-thres'\n",
       "$filter\n",
       ":   'iso'\n",
       "$dist_file\n",
       ":   '../Data/dist/all_l1-thres.npy'\n",
       "$file\n",
       ":   '../Data/mapper/all_l1-thres_iso.rds'\n",
       "$pdf\n",
       ":   '../Imagenes/mapper_graphs/mapper_all_l1-thres_iso.pdf'\n",
       "$title\n",
       ":   <span style=white-space:pre-wrap>'Mapper for part =  all , metric= l1-thres , filter = iso'</span>\n",
       "\n",
       "\n"
      ],
      "text/plain": [
       "$part\n",
       "[1] \"all\"\n",
       "\n",
       "$metric\n",
       "[1] \"l1-thres\"\n",
       "\n",
       "$filter\n",
       "[1] \"iso\"\n",
       "\n",
       "$dist_file\n",
       "[1] \"../Data/dist/all_l1-thres.npy\"\n",
       "\n",
       "$file\n",
       "[1] \"../Data/mapper/all_l1-thres_iso.rds\"\n",
       "\n",
       "$pdf\n",
       "[1] \"../Imagenes/mapper_graphs/mapper_all_l1-thres_iso.pdf\"\n",
       "\n",
       "$title\n",
       "[1] \"Mapper for part =  all , metric= l1-thres , filter = iso\"\n"
      ]
     },
     "metadata": {},
     "output_type": "display_data"
    }
   ],
   "source": [
    "my_names(filters[[6]])"
   ]
  },
  {
   "cell_type": "code",
   "execution_count": 16,
   "metadata": {},
   "outputs": [
    {
     "data": {
      "text/html": [
       "<style>\n",
       ".list-inline {list-style: none; margin:0; padding: 0}\n",
       ".list-inline>li {display: inline-block}\n",
       ".list-inline>li:not(:last-child)::after {content: \"\\00b7\"; padding: 0 .5ex}\n",
       "</style>\n",
       "<ol class=list-inline><li>176</li><li>2</li></ol>\n"
      ],
      "text/latex": [
       "\\begin{enumerate*}\n",
       "\\item 176\n",
       "\\item 2\n",
       "\\end{enumerate*}\n"
      ],
      "text/markdown": [
       "1. 176\n",
       "2. 2\n",
       "\n",
       "\n"
      ],
      "text/plain": [
       "[1] 176   2"
      ]
     },
     "metadata": {},
     "output_type": "display_data"
    },
    {
     "data": {
      "image/png": "[encoded data removed]",
      "text/plain": [
       "plot without title"
      ]
     },
     "metadata": {
      "image/png": {
       "height": 420,
       "width": 420
      }
     },
     "output_type": "display_data"
    }
   ],
   "source": [
    "options(repr.plot.width=7, repr.plot.height=7)\n",
    "filt=npyLoad(filters[[6]])\n",
    "dim(filt)\n",
    "plot(filt[,1],filt[,2])"
   ]
  },
  {
   "cell_type": "code",
   "execution_count": 17,
   "metadata": {},
   "outputs": [
    {
     "data": {
      "text/html": [
       "'../Data/filts/all_l1-thres_iso.npy'"
      ],
      "text/latex": [
       "'../Data/filts/all\\_l1-thres\\_iso.npy'"
      ],
      "text/markdown": [
       "'../Data/filts/all_l1-thres_iso.npy'"
      ],
      "text/plain": [
       "[1] \"../Data/filts/all_l1-thres_iso.npy\""
      ]
     },
     "metadata": {},
     "output_type": "display_data"
    }
   ],
   "source": [
    "list_of_filters=filters[c(6)]\n",
    "list_of_filters"
   ]
  },
  {
   "cell_type": "code",
   "execution_count": 18,
   "metadata": {},
   "outputs": [
    {
     "name": "stdout",
     "output_type": "stream",
     "text": [
      "[1] \"Mapper for part =  all , metric= l1-thres , filter = iso\"\n",
      "1 \t2 \t3 \t4 \t5 \t6 \t7 \t8 \t9 \t10 \t11 \t12 \t13 \t14 \t15 \t16 \t17 \t18 \t19 \t20 \t21 \t22 \t23 \t24 \t25 \t\n"
     ]
    }
   ],
   "source": [
    "#Generating all mapper graphs \n",
    "set.seed(1)\n",
    "gr=list()\n",
    "map=list()\n",
    "for (file in list_of_filters){\n",
    "    # -------- Names ----------- \n",
    "    mynames=my_names(file) #Has 6 elements: part, metric, filter,\n",
    "                           #dist_file, pdf and title\n",
    "    #mynames$dist_file = \"../Data/dist/all_l1_geo.npy\"\n",
    "    # ---------- Data -------------\n",
    "    filter=npyLoad(file)\n",
    "    #filter <- as.matrix(read.table(\"../Data/mapper_iso.txt\", header=F))\n",
    "    time_points=nrow(filter)\n",
    "    diss=npyLoad(mynames[[\"dist_file\"]]) #Distance matrix\n",
    "\n",
    "    f=make_image(suspense[11:186])\n",
    "    fmax=round(max(suspense),2)\n",
    "    fmin=round(min(suspense),2)\n",
    "    # -------- generate Mapper -----------\n",
    "\n",
    "    int=5 #Number of intervals to be considered\n",
    "    ov=5 #Number of overlaps to be considered\n",
    "\n",
    "    print(mynames$title)\n",
    "    gr[[file]]=list()\n",
    "    map[[file]]=list()\n",
    "    i=0\n",
    "    for (overlap in 5*(1:ov)+15){\n",
    "        for (intervals in (1:int)+3){\n",
    "            i=i+1\n",
    "            cat(i,\"\\t\")\n",
    "            #------------------ Mapper -----------------\n",
    "            m = MapperRef$new(dist_x=diss)$\n",
    "                use_filter(filter=filter)$\n",
    "                use_cover(number_intervals = intervals,percent_overlap = overlap)$\n",
    "                use_clustering_algorithm(cl = \"single\" , \n",
    "                                 cutoff_method = \"continuous\" ,adjust=1,min_dist=65)$\n",
    "                construct_k_skeleton(k = 1L)\n",
    "            #----------------- Graphs -----------------\n",
    "    \n",
    "            my_layout=layout_with_kk(m$as_igraph())\n",
    "            #Time\n",
    "            my_make_pie1=make_pie_fun(id,m$vertices,time_points)\n",
    "            #Suspense\n",
    "            my_make_pie2=make_pie_fun(f,m$vertices,time_points)\n",
    "            \n",
    "            map[[file]][[i]]=list('graph'=m$as_igraph(),'vertices'=m$vertices,\n",
    "                                  'edges'=m$simplicial_complex$as_adjacency_list()) \n",
    "            attr(map[[file]][[i]], \".summary\") = format(m$cover)\n",
    "            class(map[[file]][[i]]) <- \"Mapper\"\n",
    "                                  \n",
    "            gr[[file]][[i]]=my_plot_params(m,my_layout,my_make_pie2,colors1,\n",
    "                                 c(intervals,overlap),margin=c(.1,.8,.2,.8),pin=c(1.3,1.3)) #level of suspense\n",
    "            gr[[file]][[i+int*ov]]=my_plot_params(m,my_layout,my_make_pie1,colors2,\n",
    "                                  ,margin=c(.1,.8,2,.8),pin=c(1.3,1.3)) #time\n",
    "        }\n",
    "    } \n",
    "    cat(\"\\n\")\n",
    "}"
   ]
  },
  {
   "cell_type": "code",
   "execution_count": 45,
   "metadata": {},
   "outputs": [],
   "source": [
    "##### Plot just time \n",
    "\n",
    "# for (i in (total/2 + 1):total){\n",
    "#     gr[[file]][[i]]$pin = c(1,1)\n",
    "#     gr[[file]][[i]]$margin = c(.1,.1,.1,.1)\n",
    "# }\n"
   ]
  },
  {
   "cell_type": "code",
   "execution_count": 19,
   "metadata": {},
   "outputs": [
    {
     "name": "stdout",
     "output_type": "stream",
     "text": [
      "Ploting graphs done \tPlotting colorbars done \t\n"
     ]
    }
   ],
   "source": [
    "##### Plot just time \n",
    "\n",
    "#options(repr.plot.width=2*int+1, repr.plot.height=1.51*2*ov+3)\n",
    "for (file in list_of_filters){\n",
    "    mynames=my_names(file)\n",
    "    #pdf('../Imagenes/mapper_graphs/mapper_all_l1-nothres_iso_time.pdf',width=1.1*int,height=1.1*ov+.5) #Without title\n",
    "    pdf(mynames$pdf,width=2*int+1,height=1.51*ov+3)  #With title (width and height)\n",
    "    total=length(gr[[file]])\n",
    "    layout=make_layout(total=total/2 - 5,cols=int,intercalado=FALSE)\n",
    "    #--------------------- Plotting -------------------------------------\n",
    "    title_bars=list(\"States\",\"Level of suspense\")\n",
    "    ticks=list(30*(1:5),NULL)\n",
    "    labels=sapply(ticks[1],as.character)\n",
    "    axis.args=list(at=ticks,labels=labels,cex.axis=2.2)\n",
    "    mins=list(0,fmin)\n",
    "    maxs=list(time_points,fmax)\n",
    "    my_multi_with_colorbars(plot_mapper_pie,gr[[file]][((total/2)+6):total],layout=layout,colors=list(colors2),\n",
    "                            bars_per_line=1,title_bars=title_bars[1], axis.args=axis.args,\n",
    "                            mins=mins[1], maxs=maxs[1],width=.2,horizontal=TRUE)\n",
    "    cat(\"\\n\")\n",
    "    dev.off()\n",
    "}"
   ]
  },
  {
   "cell_type": "code",
   "execution_count": 55,
   "metadata": {},
   "outputs": [
    {
     "name": "stdout",
     "output_type": "stream",
     "text": [
      "Ploting graphs done \tPlotting colorbars done \t\n"
     ]
    }
   ],
   "source": [
    "##### Plot just suspense\n",
    "\n",
    "#options(repr.plot.width=2*int+1, repr.plot.height=1.51*2*ov+3)\n",
    "# for (file in list_of_filters){\n",
    "#     mynames=my_names(file)\n",
    "#     pdf(mynames$pdf,width=2*int+1,height=1.51*ov) #Without title\n",
    "#     #pdf(mynames$pdf,width=2*int+1,height=1.51*ov+3)  #With title\n",
    "#     total=length(gr[[file]])\n",
    "#     layout=make_layout(total=total/2,cols=int,intercalado=FALSE)\n",
    "#     #--------------------- Plotting -------------------------------------\n",
    "#     title_bars=list(\"States\",\"Level of suspense\")\n",
    "#     ticks=list(30*(0:5),NULL)\n",
    "#     mins=list(0,fmin)\n",
    "#     maxs=list(time_points,fmax)\n",
    "#     my_multi_with_colorbars(plot_mapper_pie,gr[[file]][1:(total/2)],layout=layout,colors=list(colors1),\n",
    "#                             bars_per_line=1,title_bars=title_bars[2], title=mynames$title,\n",
    "#                             mins=mins[2], maxs=maxs[2],width=.2,horizontal=FALSE)\n",
    "#     cat(\"\\n\")\n",
    "#     dev.off()\n",
    "# }"
   ]
  },
  {
   "cell_type": "code",
   "execution_count": 19,
   "metadata": {
    "scrolled": false
   },
   "outputs": [
    {
     "name": "stdout",
     "output_type": "stream",
     "text": [
      "Ploting graphs done \tPlotting colorbars done \t\n",
      "Ploting graphs done \tPlotting colorbars done \t\n"
     ]
    }
   ],
   "source": [
    "##### Plot both\n",
    "\n",
    "#options(repr.plot.width=2*int+1, repr.plot.height=1.51*2*ov+3)\n",
    "# for (file in list_of_filters){\n",
    "#     mynames=my_names(file)\n",
    "#     pdf(mynames$pdf,width=2*int+1,height=1.51*2*ov+3) #Without title\n",
    "#     #pdf('../Imagenes/mapper_graphs/all_l1_iso2.pdf',width=2*int+1,height=1.51*2*ov+3) #With title\n",
    "#     layout=make_layout(total=length(gr[[file]]),cols=int,intercalado=TRUE)\n",
    "#     #--------------------- Plotting -------------------------------------\n",
    "#     title_bars=list(\"States\",\"Level of suspense\")\n",
    "#     ticks=list(30*(1:5),NULL)\n",
    "#     labels=sapply(ticks[1],as.character)\n",
    "#     axis.args=list(at=ticks,labels=labels,cex.axis=2.2)\n",
    "#     mins=list(0,fmin)\n",
    "#     maxs=list(time_points,fmax)\n",
    "#     my_multi_with_colorbars(plot_mapper_pie,gr[[file]],layout=layout,colors=colors,\n",
    "#                             bars_per_line=2,title=mynames$title,title_bars=title_bars, \n",
    "#                             axis.args=axis.args, mins=mins, maxs=maxs,width=.2,horizontal=FALSE)\n",
    "#     cat(\"\\n\")\n",
    "#     dev.off()\n",
    "# }"
   ]
  },
  {
   "cell_type": "code",
   "execution_count": 20,
   "metadata": {},
   "outputs": [],
   "source": [
    "for (file in list_of_filters){\n",
    "    file_to_save=my_names(file)[[\"file\"]]\n",
    "    m=map[[file]]\n",
    "    saveRDS(m, file = file_to_save)\n",
    "}"
   ]
  }
 ],
 "metadata": {
  "kernelspec": {
   "display_name": "R",
   "language": "R",
   "name": "ir"
  },
  "language_info": {
   "codemirror_mode": "r",
   "file_extension": ".r",
   "mimetype": "text/x-r-source",
   "name": "R",
   "pygments_lexer": "r",
   "version": "3.6.3"
  }
 },
 "nbformat": 4,
 "nbformat_minor": 4
}
