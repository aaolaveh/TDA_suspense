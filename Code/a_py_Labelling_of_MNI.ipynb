{
 "cells": [
  {
   "cell_type": "markdown",
   "metadata": {},
   "source": [
    "## Code for labeling regions "
   ]
  },
  {
   "cell_type": "code",
   "execution_count": 1,
   "metadata": {},
   "outputs": [],
   "source": [
    "import json\n",
    "import csv\n",
    "import numpy as np\n",
    "import pandas as pd\n",
    "import matplotlib.pyplot as plt\n",
    "import matplotlib.cm as cm\n",
    "import matplotlib.patches as mpatches\n",
    "import re\n",
    "from itertools import combinations"
   ]
  },
  {
   "cell_type": "code",
   "execution_count": 4,
   "metadata": {},
   "outputs": [
    {
     "data": {
      "text/html": [
       "<style>.container { width:95% !important; }</style>"
      ],
      "text/plain": [
       "<IPython.core.display.HTML object>"
      ]
     },
     "metadata": {},
     "output_type": "display_data"
    }
   ],
   "source": [
    "from IPython.core.display import display, HTML\n",
    "display(HTML(\"<style>.container { width:95% !important; }</style>\"))"
   ]
  },
  {
   "cell_type": "code",
   "execution_count": 5,
   "metadata": {},
   "outputs": [],
   "source": [
    "np.set_printoptions(edgeitems=30, linewidth=100000, \n",
    "    formatter=dict(float=lambda x: \"%.3g\" % x))"
   ]
  },
  {
   "cell_type": "code",
   "execution_count": 6,
   "metadata": {},
   "outputs": [],
   "source": [
    "%run functions-py.py"
   ]
  },
  {
   "cell_type": "markdown",
   "metadata": {},
   "source": [
    "## Making json file of guides"
   ]
  },
  {
   "cell_type": "markdown",
   "metadata": {},
   "source": [
    "#### Guides for shen atlas\n",
    "We convert the text files extracted from <a href=\"https://github.com/bioimagesuiteweb/bisweb/blob/devel/web/images/atlases/humanmni.json\"> Bioimage Suite Web </a> into json files (when we copied them were not as pretty as now)"
   ]
  },
  {
   "cell_type": "code",
   "execution_count": 5,
   "metadata": {},
   "outputs": [],
   "source": [
    "gui=[\"../Data/Parcellation/gui_lobes.txt\",\"../Data/Parcellation/gui_brodlabels.txt\",\"../Data/Parcellation/gui_networks.txt\"]"
   ]
  },
  {
   "cell_type": "code",
   "execution_count": null,
   "metadata": {},
   "outputs": [],
   "source": [
    "#guides is the dictionary of attributes \n",
    "guides=dict()\n",
    "for file in gui:\n",
    "    x=open(file,'r')\n",
    "    lines=x.readlines()\n",
    "    x.close()\n",
    "    name=lines[0].split(\"=\")[0].split()[0]\n",
    "    guides[name]=dict()\n",
    "    for i in range(1,(len(lines)-1)):\n",
    "        v=lines[i].split()\n",
    "        key=int(v[0].split(\":\")[0]) #the number\n",
    "        ele=v[1].split(\"\\\"\")[1]     #the name\n",
    "        guides[name][key]=ele"
   ]
  },
  {
   "cell_type": "code",
   "execution_count": null,
   "metadata": {},
   "outputs": [],
   "source": [
    "print(guides.keys())\n",
    "guides[\"gui_Networks\"]"
   ]
  },
  {
   "cell_type": "code",
   "execution_count": null,
   "metadata": {},
   "outputs": [],
   "source": [
    "#now guides i in json file\n",
    "with open(\"../Data/Parcellation/guides.json\", \"w\") as write_file:\n",
    "    json.dump(guides, write_file)"
   ]
  },
  {
   "cell_type": "markdown",
   "metadata": {},
   "source": [
    "#### Guides for aal atlas"
   ]
  },
  {
   "cell_type": "code",
   "execution_count": null,
   "metadata": {},
   "outputs": [],
   "source": [
    "#aal atlas from mricron\n",
    "file=\"../../../Documentos/Software/mricron/Resources/templates/aal.nii.txt\"\n",
    "guide=dict()\n",
    "x=open(file,'r')\n",
    "lines=x.readlines()\n",
    "x.close()\n",
    "for i in range(0,(len(lines)-1)):\n",
    "    v=lines[i].split(\" \")\n",
    "    key=int(v[0])\n",
    "    ele=v[1]\n",
    "    guide[key]=ele"
   ]
  },
  {
   "cell_type": "code",
   "execution_count": null,
   "metadata": {},
   "outputs": [],
   "source": [
    "guide[0]='None'"
   ]
  },
  {
   "cell_type": "code",
   "execution_count": null,
   "metadata": {},
   "outputs": [],
   "source": [
    "with open(\"../Data/Parcellation/aal_atlas.json\", \"w\") as write_file:\n",
    "    json.dump(guide, write_file)"
   ]
  },
  {
   "cell_type": "markdown",
   "metadata": {},
   "source": [
    "## SHEN INFORMATION FROM BIOIMAGE"
   ]
  },
  {
   "cell_type": "markdown",
   "metadata": {},
   "source": [
    "Checking information from json files.\n",
    "The bioimage.json file is extracted from <a href=\"https://github.com/bioimagesuiteweb/bisweb/blob/devel/web/images/shen.json\"> Bioimage web <a/>"
   ]
  },
  {
   "cell_type": "code",
   "execution_count": 9,
   "metadata": {},
   "outputs": [],
   "source": [
    "file_rois=\"../Data/Parcellation/bioimage.json\"\n",
    "file_info=\"../Data/Parcellation/guides.json\""
   ]
  },
  {
   "cell_type": "code",
   "execution_count": 10,
   "metadata": {},
   "outputs": [],
   "source": [
    "#Now the ROIS file, let's see\n",
    "with open(file_rois, \"r\") as read_file:\n",
    "    rois = json.load(read_file)"
   ]
  },
  {
   "cell_type": "code",
   "execution_count": 11,
   "metadata": {
    "scrolled": true
   },
   "outputs": [
    {
     "data": {
      "text/plain": [
       "{'x': -12.52, 'y': 11.62, 'z': 8.68, 'attr': [19, 42, 10, 48, 9]}"
      ]
     },
     "execution_count": 11,
     "metadata": {},
     "output_type": "execute_result"
    }
   ],
   "source": [
    "rois[\"rois\"][257]"
   ]
  },
  {
   "cell_type": "code",
   "execution_count": 12,
   "metadata": {},
   "outputs": [],
   "source": [
    "#Run region_information \n",
    "region_information=set_dictionaries_rois(file_info,file_rois)"
   ]
  },
  {
   "cell_type": "code",
   "execution_count": 13,
   "metadata": {},
   "outputs": [
    {
     "data": {
      "text/plain": [
       "{'MNI': [-10.85, 23.86, 9.64],\n",
       " 'Lobe': 'L-Subcortical',\n",
       " 'Network': 'Salience',\n",
       " 'Network2': 'Basal Ganglia',\n",
       " 'Brodmann Area': 'Unknown'}"
      ]
     },
     "execution_count": 13,
     "metadata": {},
     "output_type": "execute_result"
    }
   ],
   "source": [
    "region_information(256)"
   ]
  },
  {
   "cell_type": "markdown",
   "metadata": {},
   "source": [
    "## MNI to Atlas region"
   ]
  },
  {
   "cell_type": "markdown",
   "metadata": {},
   "source": [
    "We associate the centroid (MNI coordinate) of each region with the name in region atlas (aal atlas)"
   ]
  },
  {
   "cell_type": "code",
   "execution_count": 14,
   "metadata": {},
   "outputs": [],
   "source": [
    "%run functions-py.py"
   ]
  },
  {
   "cell_type": "code",
   "execution_count": 15,
   "metadata": {},
   "outputs": [],
   "source": [
    "from nilearn import datasets,image\n",
    "import nibabel as nib"
   ]
  },
  {
   "cell_type": "markdown",
   "metadata": {},
   "source": [
    "The file of the Shen Atlas is extracted from <a href=\"https://www.nitrc.org/frs/?group_id=51\"> NITRC site <a/>"
   ]
  },
  {
   "cell_type": "code",
   "execution_count": 3,
   "metadata": {},
   "outputs": [],
   "source": [
    "path_atlas=\"../Data/Parcellation/shen_2mm_268_parcellation.nii.gz\"\n",
    "atlas=nib.load(path_atlas)"
   ]
  },
  {
   "cell_type": "code",
   "execution_count": 4,
   "metadata": {},
   "outputs": [
    {
     "name": "stdout",
     "output_type": "stream",
     "text": [
      "86\n"
     ]
    },
    {
     "data": {
      "text/plain": [
       "array([36, 32, 47])"
      ]
     },
     "execution_count": 4,
     "metadata": {},
     "output_type": "execute_result"
    }
   ],
   "source": [
    "p=mni2region([18,-62,22],atlas)\n",
    "print(p)\n",
    "coord2coord([18,-62,22],np.linalg.inv(atlas.affine))\n",
    "#region_information(p-1)"
   ]
  },
  {
   "cell_type": "code",
   "execution_count": 5,
   "metadata": {},
   "outputs": [
    {
     "name": "stdout",
     "output_type": "stream",
     "text": [
      "0\n",
      "1\n",
      "[29]\n",
      "[168]\n"
     ]
    }
   ],
   "source": [
    "print(mni2region([18,0,56],atlas))\n",
    "print(mni2cl_region([18,0,56],atlas))\n",
    "print(mni2cl_region([-34,-4,5],atlas))"
   ]
  },
  {
   "cell_type": "code",
   "execution_count": 6,
   "metadata": {},
   "outputs": [],
   "source": [
    "Networks1={}"
   ]
  },
  {
   "cell_type": "code",
   "execution_count": 16,
   "metadata": {},
   "outputs": [],
   "source": [
    "for i in range(268):\n",
    "    net=region_information(i)['Network']\n",
    "    Networks1[net]=[]\n",
    "for i in range(268):\n",
    "    net=region_information(i)['Network']\n",
    "    Networks1[net]=Networks1[net]+[i+1]"
   ]
  },
  {
   "cell_type": "code",
   "execution_count": 17,
   "metadata": {
    "collapsed": true
   },
   "outputs": [
    {
     "data": {
      "text/plain": [
       "[1,\n",
       " 5,\n",
       " 6,\n",
       " 10,\n",
       " 12,\n",
       " 13,\n",
       " 42,\n",
       " 48,\n",
       " 49,\n",
       " 51,\n",
       " 52,\n",
       " 53,\n",
       " 63,\n",
       " 64,\n",
       " 83,\n",
       " 85,\n",
       " 86,\n",
       " 90,\n",
       " 93,\n",
       " 95,\n",
       " 100,\n",
       " 120,\n",
       " 134,\n",
       " 138,\n",
       " 139,\n",
       " 140,\n",
       " 141,\n",
       " 145,\n",
       " 146,\n",
       " 148,\n",
       " 149,\n",
       " 151,\n",
       " 182,\n",
       " 183,\n",
       " 185,\n",
       " 186,\n",
       " 187,\n",
       " 188,\n",
       " 190,\n",
       " 191,\n",
       " 197,\n",
       " 198,\n",
       " 203,\n",
       " 219,\n",
       " 222,\n",
       " 225,\n",
       " 226,\n",
       " 227,\n",
       " 229,\n",
       " 230,\n",
       " 233]"
      ]
     },
     "execution_count": 17,
     "metadata": {},
     "output_type": "execute_result"
    }
   ],
   "source": [
    "Networks1['Default']"
   ]
  },
  {
   "cell_type": "code",
   "execution_count": null,
   "metadata": {},
   "outputs": [],
   "source": [
    "Networks1 #Dictionary of networks "
   ]
  },
  {
   "cell_type": "code",
   "execution_count": null,
   "metadata": {},
   "outputs": [],
   "source": [
    "Networks1.keys()"
   ]
  },
  {
   "cell_type": "markdown",
   "metadata": {},
   "source": [
    "### Labelling SHEN regions using aal Atlas"
   ]
  },
  {
   "cell_type": "code",
   "execution_count": 10,
   "metadata": {},
   "outputs": [],
   "source": [
    "#atlas.affine goes from voxel to mni"
   ]
  },
  {
   "cell_type": "code",
   "execution_count": 11,
   "metadata": {
    "collapsed": true
   },
   "outputs": [
    {
     "ename": "NameError",
     "evalue": "name 'nib' is not defined",
     "output_type": "error",
     "traceback": [
      "\u001b[0;31m---------------------------------------------------------------------------\u001b[0m",
      "\u001b[0;31mNameError\u001b[0m                                 Traceback (most recent call last)",
      "\u001b[0;32m<ipython-input-11-a40b5139ec84>\u001b[0m in \u001b[0;36m<module>\u001b[0;34m\u001b[0m\n\u001b[1;32m      1\u001b[0m \u001b[0mpath_atlas\u001b[0m\u001b[0;34m=\u001b[0m\u001b[0;34m\"../Data/Parcellation/shen_2mm_268_parcellation.nii.gz\"\u001b[0m\u001b[0;34m\u001b[0m\u001b[0;34m\u001b[0m\u001b[0m\n\u001b[0;32m----> 2\u001b[0;31m \u001b[0mshen_atlas\u001b[0m\u001b[0;34m=\u001b[0m\u001b[0mnib\u001b[0m\u001b[0;34m.\u001b[0m\u001b[0mload\u001b[0m\u001b[0;34m(\u001b[0m\u001b[0mpath_atlas\u001b[0m\u001b[0;34m)\u001b[0m\u001b[0;34m\u001b[0m\u001b[0;34m\u001b[0m\u001b[0m\n\u001b[0m\u001b[1;32m      3\u001b[0m \u001b[0;34m\u001b[0m\u001b[0m\n\u001b[1;32m      4\u001b[0m \u001b[0mpath_atlas\u001b[0m\u001b[0;34m=\u001b[0m\u001b[0;34m\"../../../Documentos/Software/mricron/Resources/templates/aal.nii.gz\"\u001b[0m\u001b[0;34m\u001b[0m\u001b[0;34m\u001b[0m\u001b[0m\n\u001b[1;32m      5\u001b[0m \u001b[0maal_atlas\u001b[0m\u001b[0;34m=\u001b[0m\u001b[0mnib\u001b[0m\u001b[0;34m.\u001b[0m\u001b[0mload\u001b[0m\u001b[0;34m(\u001b[0m\u001b[0mpath_atlas\u001b[0m\u001b[0;34m)\u001b[0m\u001b[0;34m\u001b[0m\u001b[0;34m\u001b[0m\u001b[0m\n",
      "\u001b[0;31mNameError\u001b[0m: name 'nib' is not defined"
     ]
    }
   ],
   "source": [
    "path_atlas=\"../Data/Parcellation/shen_2mm_268_parcellation.nii.gz\"\n",
    "shen_atlas=nib.load(path_atlas)\n",
    "\n",
    "path_atlas=\"../../../Documentos/Software/mricron/Resources/templates/aal.nii.gz\"\n",
    "aal_atlas=nib.load(path_atlas)"
   ]
  },
  {
   "cell_type": "code",
   "execution_count": null,
   "metadata": {},
   "outputs": [],
   "source": [
    "aal_aff=aal_atlas.affine\n",
    "shen_aff=shen_atlas.affine\n",
    "#Aff=np.matmul(aal_aff,np.linalg.inv(shen_aff))"
   ]
  },
  {
   "cell_type": "code",
   "execution_count": null,
   "metadata": {},
   "outputs": [],
   "source": [
    "a1=[26,28,33]\n",
    "a2=coord2coord(a1,shen_aff)\n",
    "print(a2)\n",
    "a3=coord2coord(a2,np.linalg.inv(aal_aff))\n",
    "print(a3)"
   ]
  },
  {
   "cell_type": "code",
   "execution_count": null,
   "metadata": {},
   "outputs": [],
   "source": [
    "print(aal_atlas.get_fdata()[a3[0],a3[1],a3[2]])\n",
    "print(shen_atlas.get_fdata()[91-a1[0],a1[1],a1[2]])"
   ]
  },
  {
   "cell_type": "code",
   "execution_count": null,
   "metadata": {},
   "outputs": [],
   "source": [
    "a_matx=aal_atlas.get_fdata()\n",
    "s_matx=shen_atlas.get_fdata()"
   ]
  },
  {
   "cell_type": "code",
   "execution_count": null,
   "metadata": {},
   "outputs": [],
   "source": [
    "regions={}\n",
    "for i in np.arange(1,269):\n",
    "    regions[i]=list()"
   ]
  },
  {
   "cell_type": "code",
   "execution_count": null,
   "metadata": {},
   "outputs": [],
   "source": [
    "dims=np.shape(s_matx)\n",
    "I=dims[0]\n",
    "J=dims[1]\n",
    "K=dims[2]\n",
    "for i in range(I):\n",
    "    print(i)\n",
    "    for j in range(J):\n",
    "        for k in range(K):\n",
    "            reg_1=s_matx[i,j,k] #region in Shen of voxel [i,j,k]\n",
    "            if reg_1 >0 :\n",
    "                a=coord2coord([i,j,k],shen_aff) #to mni\n",
    "                b=coord2coord(a,np.linalg.inv(aal_aff)) #to voxel in aal\n",
    "                reg_2=a_matx[b[0],b[1],b[2]] #region in aal \n",
    "                regions[reg_1]=regions[reg_1]+[(reg_2)] #save region"
   ]
  },
  {
   "cell_type": "code",
   "execution_count": null,
   "metadata": {},
   "outputs": [],
   "source": [
    "with open(\"../Data/Parcellation/aal_atlas.json\", \"r\") as read_file:\n",
    "    names = json.load(read_file)"
   ]
  },
  {
   "cell_type": "code",
   "execution_count": null,
   "metadata": {},
   "outputs": [],
   "source": [
    "i=85\n",
    "for x in set(regions[i]):\n",
    "    print(x,round((regions[i].count(x)/len(regions[i]))*100))"
   ]
  },
  {
   "cell_type": "code",
   "execution_count": null,
   "metadata": {},
   "outputs": [],
   "source": [
    "regions_with_names={}\n",
    "for key in regions.keys():\n",
    "    regions_with_names[str(key)]={}\n",
    "    l=len(regions[key])\n",
    "    for x in set(regions[key]):\n",
    "        if x>0:\n",
    "            perc=round(regions[key].count(x)/l*100)\n",
    "            if perc > 10:\n",
    "                regions_with_names[str(key)][names[str(int(x))]]=str(perc)+ ' %'"
   ]
  },
  {
   "cell_type": "code",
   "execution_count": 9,
   "metadata": {
    "collapsed": true
   },
   "outputs": [
    {
     "ename": "NameError",
     "evalue": "name 'regions_with_names' is not defined",
     "output_type": "error",
     "traceback": [
      "\u001b[0;31m---------------------------------------------------------------------------\u001b[0m",
      "\u001b[0;31mNameError\u001b[0m                                 Traceback (most recent call last)",
      "\u001b[0;32m<ipython-input-9-90236608ef3e>\u001b[0m in \u001b[0;36m<module>\u001b[0;34m\u001b[0m\n\u001b[1;32m      1\u001b[0m \u001b[0;32mwith\u001b[0m \u001b[0mopen\u001b[0m\u001b[0;34m(\u001b[0m\u001b[0;34m\"../Data/Parcellation/labeling_with_aal.json\"\u001b[0m\u001b[0;34m,\u001b[0m \u001b[0;34m\"w\"\u001b[0m\u001b[0;34m)\u001b[0m \u001b[0;32mas\u001b[0m \u001b[0mwrite_file\u001b[0m\u001b[0;34m:\u001b[0m\u001b[0;34m\u001b[0m\u001b[0;34m\u001b[0m\u001b[0m\n\u001b[0;32m----> 2\u001b[0;31m     \u001b[0mjson\u001b[0m\u001b[0;34m.\u001b[0m\u001b[0mdump\u001b[0m\u001b[0;34m(\u001b[0m\u001b[0mregions_with_names\u001b[0m\u001b[0;34m,\u001b[0m \u001b[0mwrite_file\u001b[0m\u001b[0;34m)\u001b[0m\u001b[0;34m\u001b[0m\u001b[0;34m\u001b[0m\u001b[0m\n\u001b[0m",
      "\u001b[0;31mNameError\u001b[0m: name 'regions_with_names' is not defined"
     ]
    }
   ],
   "source": [
    "#with open(\"../Data/Parcellation/labeling_with_aal.json\", \"w\") as write_file:\n",
    "#    json.dump(regions_with_names, write_file)"
   ]
  },
  {
   "cell_type": "code",
   "execution_count": null,
   "metadata": {
    "scrolled": true
   },
   "outputs": [],
   "source": [
    "regions_with_names['29']"
   ]
  },
  {
   "cell_type": "markdown",
   "metadata": {},
   "source": [
    "### Labelling SHEN regions using aal Atlas 2 (full names)"
   ]
  },
  {
   "cell_type": "markdown",
   "metadata": {},
   "source": [
    "The file aal_regions.csv contains the short and full names of the regions. <br>\n",
    "We create reg_with_full from regions_with_names "
   ]
  },
  {
   "cell_type": "code",
   "execution_count": 177,
   "metadata": {},
   "outputs": [],
   "source": [
    "with open(\"../Data/Parcellation/labeling_with_aal.json\", \"r\") as read_file:\n",
    "    content = json.load(read_file)"
   ]
  },
  {
   "cell_type": "code",
   "execution_count": 178,
   "metadata": {},
   "outputs": [
    {
     "data": {
      "text/plain": [
       "{'Cerebelum_6_R': '31%', 'Occipital_Inf_R': '20%', 'Fusiform_R': '33%'}"
      ]
     },
     "execution_count": 178,
     "metadata": {},
     "output_type": "execute_result"
    }
   ],
   "source": [
    "content['67']"
   ]
  },
  {
   "cell_type": "code",
   "execution_count": 179,
   "metadata": {},
   "outputs": [
    {
     "name": "stdout",
     "output_type": "stream",
     "text": [
      "Frontal_Sup_Orb_L\n",
      "Superior frontal gyrus, orbital\n",
      "Part L\n"
     ]
    }
   ],
   "source": [
    "full_names=pd.read_csv(\"../Data/Parcellation/aal_regions.csv\",sep=',')\n",
    "abbr=full_names['Unnamed: 1']\n",
    "full=full_names['Unnamed: 2']\n",
    "print(abbr[5])\n",
    "print(full[5])"
   ]
  },
  {
   "cell_type": "code",
   "execution_count": 180,
   "metadata": {
    "collapsed": true
   },
   "outputs": [
    {
     "name": "stdout",
     "output_type": "stream",
     "text": [
      "1\n",
      "2\n",
      "3\n",
      "4\n",
      "5\n",
      "6\n",
      "7\n",
      "8\n",
      "9\n",
      "10\n",
      "11\n",
      "12\n",
      "13\n",
      "14\n",
      "15\n",
      "16\n",
      "17\n",
      "18\n",
      "19\n",
      "20\n",
      "21\n",
      "22\n",
      "23\n",
      "24\n",
      "25\n",
      "26\n",
      "27\n",
      "28\n",
      "29\n",
      "30\n",
      "31\n",
      "32\n",
      "33\n",
      "34\n",
      "35\n",
      "36\n",
      "37\n",
      "38\n",
      "39\n",
      "40\n",
      "41\n",
      "42\n",
      "43\n",
      "44\n",
      "45\n",
      "46\n",
      "47\n",
      "48\n",
      "49\n",
      "50\n",
      "51\n",
      "52\n",
      "53\n",
      "54\n",
      "55\n",
      "56\n",
      "57\n",
      "58\n",
      "59\n",
      "60\n",
      "61\n",
      "62\n",
      "63\n",
      "64\n",
      "65\n",
      "66\n",
      "67\n",
      "68\n",
      "69\n",
      "70\n",
      "71\n",
      "72\n",
      "73\n",
      "74\n",
      "75\n",
      "76\n",
      "77\n",
      "78\n",
      "79\n",
      "80\n",
      "81\n",
      "82\n",
      "83\n",
      "84\n",
      "85\n",
      "86\n",
      "87\n",
      "88\n",
      "89\n",
      "90\n",
      "91\n",
      "92\n",
      "93\n",
      "94\n",
      "95\n",
      "96\n",
      "97\n",
      "98\n",
      "99\n",
      "100\n",
      "101\n",
      "102\n",
      "103\n",
      "104\n",
      "105\n",
      "106\n",
      "107\n",
      "108\n",
      "109\n",
      "110\n",
      "111\n",
      "112\n",
      "113\n",
      "114\n",
      "115\n",
      "116\n",
      "117\n",
      "118\n",
      "119\n",
      "120\n",
      "121\n",
      "122\n",
      "123\n",
      "124\n",
      "125\n",
      "126\n",
      "127\n",
      "128\n",
      "129\n",
      "130\n",
      "131\n",
      "132\n",
      "133\n",
      "134\n",
      "135\n",
      "136\n",
      "137\n",
      "138\n",
      "139\n",
      "140\n",
      "141\n",
      "142\n",
      "143\n",
      "144\n",
      "145\n",
      "146\n",
      "147\n",
      "148\n",
      "149\n",
      "150\n",
      "151\n",
      "152\n",
      "153\n",
      "154\n",
      "155\n",
      "156\n",
      "157\n",
      "158\n",
      "159\n",
      "160\n",
      "161\n",
      "162\n",
      "163\n",
      "164\n",
      "165\n",
      "166\n",
      "167\n",
      "168\n",
      "169\n",
      "170\n",
      "171\n",
      "172\n",
      "173\n",
      "174\n",
      "175\n",
      "176\n",
      "177\n",
      "178\n",
      "179\n",
      "180\n",
      "181\n",
      "182\n",
      "183\n",
      "184\n",
      "185\n",
      "186\n",
      "187\n",
      "188\n",
      "189\n",
      "190\n",
      "191\n",
      "192\n",
      "193\n",
      "194\n",
      "195\n",
      "196\n",
      "197\n",
      "198\n",
      "199\n",
      "200\n",
      "201\n",
      "202\n",
      "203\n",
      "204\n",
      "205\n",
      "206\n",
      "207\n",
      "208\n",
      "209\n",
      "210\n",
      "211\n",
      "212\n",
      "213\n",
      "214\n",
      "215\n",
      "216\n",
      "217\n",
      "218\n",
      "219\n",
      "220\n",
      "221\n",
      "222\n",
      "223\n",
      "224\n",
      "225\n",
      "226\n",
      "227\n",
      "228\n",
      "229\n",
      "230\n",
      "231\n",
      "232\n",
      "233\n",
      "234\n",
      "235\n",
      "236\n",
      "237\n",
      "238\n",
      "239\n",
      "240\n",
      "241\n",
      "242\n",
      "243\n",
      "244\n",
      "245\n",
      "246\n",
      "247\n",
      "248\n",
      "249\n",
      "250\n",
      "251\n",
      "252\n",
      "253\n",
      "254\n",
      "255\n",
      "256\n",
      "257\n",
      "258\n",
      "259\n",
      "260\n",
      "261\n",
      "262\n",
      "263\n",
      "264\n",
      "265\n",
      "266\n",
      "267\n",
      "268\n"
     ]
    }
   ],
   "source": [
    "reg_with_full={} #new dict\n",
    "for key in content.keys(): \n",
    "    print(key)\n",
    "    reg_with_full[key]={} \n",
    "    for abb in content[key].keys(): #for region \n",
    "        index= abbr[abbr == abb]\n",
    "        if (len(index)>0):\n",
    "            ind= index.index[0] #index of region\n",
    "            fulll=full[ind]\n",
    "            fulll=str(fulll).replace(\"\\n\", \" \")\n",
    "            reg_with_full[key][fulll]=content[key][abb] #Replace with full name\n",
    "        else:\n",
    "            reg_with_full[key][abb]=content[key][abb] #Maintain name if not found"
   ]
  },
  {
   "cell_type": "code",
   "execution_count": 181,
   "metadata": {},
   "outputs": [
    {
     "data": {
      "text/plain": [
       "{'Superior frontal gyrus, orbital Part R': '11%',\n",
       " 'Middle frontal gyrus R': '25%',\n",
       " 'Middle frontal gyrus, orbital Part R': '46%'}"
      ]
     },
     "execution_count": 181,
     "metadata": {},
     "output_type": "execute_result"
    }
   ],
   "source": [
    "reg_with_full['7']"
   ]
  },
  {
   "cell_type": "code",
   "execution_count": 182,
   "metadata": {},
   "outputs": [],
   "source": [
    "with open(\"../Data/Parcellation/labeling_with_full_aal.json\", \"w\") as write_file:\n",
    "    json.dump(reg_with_full, write_file)"
   ]
  }
 ],
 "metadata": {
  "kernelspec": {
   "display_name": "nifti",
   "language": "python",
   "name": "nifti"
  },
  "language_info": {
   "codemirror_mode": {
    "name": "ipython",
    "version": 3
   },
   "file_extension": ".py",
   "mimetype": "text/x-python",
   "name": "python",
   "nbconvert_exporter": "python",
   "pygments_lexer": "ipython3",
   "version": "3.8.5"
  }
 },
 "nbformat": 4,
 "nbformat_minor": 4
}
