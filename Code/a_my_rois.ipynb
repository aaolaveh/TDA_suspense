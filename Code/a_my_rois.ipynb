{
 "cells": [
  {
   "cell_type": "markdown",
   "metadata": {},
   "source": [
    "## Anatomical regions for each region in Shen Atlas"
   ]
  },
  {
   "cell_type": "code",
   "execution_count": 1,
   "metadata": {},
   "outputs": [],
   "source": [
    "import json\n",
    "import csv\n",
    "import numpy as np\n",
    "import pandas as pd\n",
    "import matplotlib.pyplot as plt\n",
    "import matplotlib.cm as cm\n",
    "import matplotlib.patches as mpatches\n",
    "import re\n",
    "from itertools import combinations\n",
    "%run functions-py.py"
   ]
  },
  {
   "cell_type": "markdown",
   "metadata": {},
   "source": [
    "### shen_dictionary from professor Ralf Schmälzle has (almost) the same info as full_aal\n",
    "For each region (identified by a number) the dictionary has the names and percentages of the all_regions it contains"
   ]
  },
  {
   "cell_type": "code",
   "execution_count": 20,
   "metadata": {},
   "outputs": [],
   "source": [
    "the_dict=np.load('../Data/shen_dictionary.npy',allow_pickle=True).item()"
   ]
  },
  {
   "cell_type": "code",
   "execution_count": 21,
   "metadata": {},
   "outputs": [],
   "source": [
    "with open(\"../Data/Parcellation/bioimage.json\", \"r\") as read_file:\n",
    "    my_dict= json.load(read_file)"
   ]
  },
  {
   "cell_type": "code",
   "execution_count": 22,
   "metadata": {},
   "outputs": [],
   "source": [
    "with open(\"../Data/Parcellation/labeling_with_full_aal.json\", \"r\") as read_file:\n",
    "    my_names=json.load(read_file)"
   ]
  },
  {
   "cell_type": "code",
   "execution_count": 23,
   "metadata": {},
   "outputs": [
    {
     "data": {
      "text/plain": [
       "[37.628787878787875, 35.4419191919192, 31.101010101010104]"
      ]
     },
     "execution_count": 23,
     "metadata": {},
     "output_type": "execute_result"
    }
   ],
   "source": [
    "i=11\n",
    "#the_dict[i]['name'].split(';')[0].split(' ')\n",
    "#the_dict[i]['name']\n",
    "the_dict[i]['coords']"
   ]
  },
  {
   "cell_type": "code",
   "execution_count": 25,
   "metadata": {},
   "outputs": [
    {
     "data": {
      "text/plain": [
       "{'x': 37.62, 'y': 35.39, 'z': 31.09, 'attr': [1, 3, 9, 9, 8]}"
      ]
     },
     "execution_count": 25,
     "metadata": {},
     "output_type": "execute_result"
    }
   ],
   "source": [
    "my_dict['rois'][10]"
   ]
  },
  {
   "cell_type": "code",
   "execution_count": 26,
   "metadata": {},
   "outputs": [
    {
     "name": "stdout",
     "output_type": "stream",
     "text": [
      "{'x': 14.56, 'y': 64.73, 'z': 3.64, 'attr': [1, 2, 5, 10, 3]}\n",
      "{'Superior frontal gyrus, Dorsolateral R': '32%', 'Superior frontal gyrus, orbital Part R': '17%', 'Superior frontal gyrus, medial R': '31%', 'Superior frontal gyrus, medial Orbital R': '20%'}\n",
      "{'coords': [14.581460674157299, 64.75280898876406, 3.682584269662925], 'name': '100.00% Frontal_Pole'}\n"
     ]
    }
   ],
   "source": [
    "i=6\n",
    "print(my_dict['rois'][i-1])\n",
    "print(my_names[str(i)])\n",
    "print(the_dict[i])"
   ]
  },
  {
   "cell_type": "code",
   "execution_count": null,
   "metadata": {},
   "outputs": [],
   "source": []
  },
  {
   "cell_type": "markdown",
   "metadata": {},
   "source": [
    "### My ROIS (extended)"
   ]
  },
  {
   "cell_type": "code",
   "execution_count": 27,
   "metadata": {},
   "outputs": [],
   "source": [
    "file=\"../Data/my_rois_net1_ordered.json\""
   ]
  },
  {
   "cell_type": "code",
   "execution_count": 11,
   "metadata": {},
   "outputs": [
    {
     "name": "stdout",
     "output_type": "stream",
     "text": [
      "101\n"
     ]
    }
   ],
   "source": [
    "networks=['Dorsal-Attention','Ventral-Attention','Salience','Frontal-Parietal','Default','Subcortical']\n",
    "my_dict=regions_from_json(file,networks,verbose=False)\n",
    "regions=my_dict['array']\n",
    "lengths=my_dict['length']\n",
    "r=np.sum(lengths)\n",
    "print(r)"
   ]
  },
  {
   "cell_type": "code",
   "execution_count": 12,
   "metadata": {},
   "outputs": [
    {
     "name": "stdout",
     "output_type": "stream",
     "text": [
      "[0, 4, 8, 18, 38, 82, 101]\n"
     ]
    }
   ],
   "source": [
    "lims=create_limits(lengths)\n",
    "print(lims)"
   ]
  },
  {
   "cell_type": "code",
   "execution_count": 188,
   "metadata": {},
   "outputs": [],
   "source": [
    "#Names of regions of chosen networks. Based on labeling_with_full_aal.json\n",
    "# ROIS={}\n",
    "# for i in range(len(networks)):\n",
    "#     net=networks[i]\n",
    "#     regs=regions[lims[i]:lims[i+1]]\n",
    "#     ROIS[net]={}\n",
    "#     for reg in regs:\n",
    "#         info= my_names[str(reg+1)]\n",
    "#         for name in info.keys(): #name is the aal label\n",
    "#             if name in list(ROIS[net].keys()):\n",
    "#                 ROIS[net][name][0]= ROIS[net][name][0] + round(float(info[name].split('%')[0])/100,2) #sum up percentage\n",
    "#                 ROIS[net][name][1]= ROIS[net][name][1] + 1 #incidence\n",
    "#             else:\n",
    "#                 ROIS[net][name]=[0,0] #starting it\n",
    "#                 ROIS[net][name][0]=round(float(info[name].split('%')[0])/100,2) #recover percentage\n",
    "#                 ROIS[net][name][1]=1  #starting incidence\n",
    "#     for name in ROIS[net].keys():\n",
    "#          ROIS[net][name][0]=round(ROIS[net][name][0],2) #round final percentage"
   ]
  },
  {
   "cell_type": "code",
   "execution_count": 189,
   "metadata": {},
   "outputs": [],
   "source": [
    "#We save to cvs the regions for each network\n",
    "for net in ROIS.keys():\n",
    "    df = pd.DataFrame(list(ROIS[net].items()),columns = ['Regions','Percentage'])\n",
    "    df.to_csv('../Data/ROIS/my_'+net+'.csv')"
   ]
  },
  {
   "cell_type": "code",
   "execution_count": null,
   "metadata": {},
   "outputs": [],
   "source": [
    "# ROIS={}\n",
    "# for i in range(len(combs)):\n",
    "#     comb=combs[i]\n",
    "#     regs=regions[lims[i]:lims[i+1]]\n",
    "#     ROIS[comb]={}\n",
    "#     for reg in regs:\n",
    "#         info= the_dict[reg+1]['name']\n",
    "#         parts= info.split(';')\n",
    "#         for j in range(len(parts)):\n",
    "#             if j == 0:\n",
    "#                 perc = parts[j].split(' ')[0].split('%')[0]\n",
    "#                 name = parts[j].split(' ')[1]\n",
    "#             else:\n",
    "#                 perc = parts[j].split(' ')[1].split('%')[0] #there's a space before\n",
    "#                 name = parts[j].split(' ')[2]\n",
    "#             perc= round(float(perc)/100,2)\n",
    "#             if name in list(ROIS[comb].keys()):\n",
    "#                 ROIS[comb][name][0]= ROIS[comb][name][0] + perc #sum up percentage\n",
    "#                 ROIS[comb][name][1]= ROIS[comb][name][1] + 1 #incidence\n",
    "#             else:\n",
    "#                 ROIS[comb][name]=[0,0]\n",
    "#                 ROIS[comb][name][0]= perc  # percentage\n",
    "#                 ROIS[comb][name][1]=1     #starting incidence\n",
    "#     for name in ROIS[comb].keys():\n",
    "#          ROIS[comb][name][0]=round(ROIS[comb][name][0],2)  #round final percentage"
   ]
  },
  {
   "cell_type": "code",
   "execution_count": null,
   "metadata": {},
   "outputs": [],
   "source": [
    "#We save to cvs the regions for each network\n",
    "for net in ROIS.keys():\n",
    "    df = pd.DataFrame(list(ROIS[net].items()),columns = ['Regions','Percentage'])\n",
    "    df.to_csv('../Data/ROIS/the_'+net+'.csv')"
   ]
  },
  {
   "cell_type": "code",
   "execution_count": 21,
   "metadata": {
    "collapsed": true
   },
   "outputs": [
    {
     "name": "stdout",
     "output_type": "stream",
     "text": [
      "{'Fusiform gyrus R': '19%', 'Temporal pole: middle temporal Gyrus R': '53%'}\n",
      "{'Temporal pole: middle temporal Gyrus R': '69%', 'Temporal pole: superior temporal gyrus R': '25%'}\n",
      "{'Temporal pole: superior temporal gyrus R': '38%', 'Middle temporal gyrus R': '24%', 'Temporal pole: middle temporal Gyrus R': '34%'}\n",
      "{'Superior temporal gyrus R': '46%', 'Middle temporal gyrus R': '54%'}\n",
      "{'Superior temporal gyrus R': '21%', 'Middle temporal gyrus R': '72%'}\n",
      "{'Temporal pole: middle temporal Gyrus L': '21%', 'Inferior temporal gyrus L': '60%'}\n",
      "{'Temporal pole: superior temporal gyrus L': '47%', 'Temporal pole: middle temporal Gyrus L': '47%'}\n",
      "{'Middle temporal gyrus L': '26%', 'Temporal pole: middle temporal Gyrus L': '52%', 'Inferior temporal gyrus L': '15%'}\n",
      "{'Superior temporal gyrus L': '25%', 'Temporal pole: superior temporal gyrus L': '49%', 'Middle temporal gyrus L': '17%'}\n",
      "{'Temporal pole: superior temporal gyrus L': '11%', 'Temporal pole: middle temporal Gyrus L': '44%', 'Fusiform gyrus L': '26%'}\n",
      "{'Inferior temporal gyrus L': '28%', 'Middle temporal gyrus L': '69%'}\n",
      "{'Superior temporal gyrus L': '19%', 'Middle temporal gyrus L': '78%'}\n",
      "{'Cerebelum_4_5_L': '19%', 'Fusiform gyrus L': '68%'}\n"
     ]
    }
   ],
   "source": [
    "#50,  51,  52,  62,  63, 184, 185, 186, 187, 189, 190, 196, 197\n",
    "print(my_names[str(51)])\n",
    "print(my_names[str(52)])\n",
    "print(my_names[str(53)])\n",
    "print(my_names[str(63)])\n",
    "print(my_names[str(64)])\n",
    "print(my_names[str(185)])\n",
    "print(my_names[str(186)])\n",
    "print(my_names[str(187)])\n",
    "print(my_names[str(188)])\n",
    "print(my_names[str(189)])\n",
    "print(my_names[str(190)])\n",
    "print(my_names[str(197)])\n",
    "print(my_names[str(198)])"
   ]
  },
  {
   "cell_type": "markdown",
   "metadata": {},
   "source": [
    "## My_ROIS (official)"
   ]
  },
  {
   "cell_type": "code",
   "execution_count": 3,
   "metadata": {},
   "outputs": [
    {
     "name": "stdout",
     "output_type": "stream",
     "text": [
      "[34  4  1  5 15 15]\n",
      "[10 20 44]\n"
     ]
    }
   ],
   "source": [
    "lengths2=np.array(\n",
    "          [[7, 0,1,1,0,1],\n",
    "          [12,4,0,2,2,0],\n",
    "          [15,0,0,2,13,14]])\n",
    "print(np.sum(lengths2,axis=0))\n",
    "print(np.sum(lengths2,axis=1))"
   ]
  },
  {
   "cell_type": "code",
   "execution_count": 4,
   "metadata": {},
   "outputs": [],
   "source": [
    "networks=['Salience','Frontal-Parietal','Default']\n",
    "lobes=['Prefrontal' , 'MotorStrip', 'Insula' , 'Parietal','Temporal','Limbic']"
   ]
  },
  {
   "cell_type": "code",
   "execution_count": 5,
   "metadata": {
    "scrolled": false
   },
   "outputs": [
    {
     "data": {
      "text/html": [
       "<div>\n",
       "<style scoped>\n",
       "    .dataframe tbody tr th:only-of-type {\n",
       "        vertical-align: middle;\n",
       "    }\n",
       "\n",
       "    .dataframe tbody tr th {\n",
       "        vertical-align: top;\n",
       "    }\n",
       "\n",
       "    .dataframe thead th {\n",
       "        text-align: right;\n",
       "    }\n",
       "</style>\n",
       "<table border=\"1\" class=\"dataframe\">\n",
       "  <thead>\n",
       "    <tr style=\"text-align: right;\">\n",
       "      <th></th>\n",
       "      <th>Prefrontal</th>\n",
       "      <th>MotorStrip</th>\n",
       "      <th>Insula</th>\n",
       "      <th>Parietal</th>\n",
       "      <th>Temporal</th>\n",
       "      <th>Limbic</th>\n",
       "    </tr>\n",
       "  </thead>\n",
       "  <tbody>\n",
       "    <tr>\n",
       "      <th>Salience</th>\n",
       "      <td>7</td>\n",
       "      <td>0</td>\n",
       "      <td>1</td>\n",
       "      <td>1</td>\n",
       "      <td>0</td>\n",
       "      <td>1</td>\n",
       "    </tr>\n",
       "    <tr>\n",
       "      <th>Frontal-Parietal</th>\n",
       "      <td>12</td>\n",
       "      <td>4</td>\n",
       "      <td>0</td>\n",
       "      <td>2</td>\n",
       "      <td>2</td>\n",
       "      <td>0</td>\n",
       "    </tr>\n",
       "    <tr>\n",
       "      <th>Default</th>\n",
       "      <td>15</td>\n",
       "      <td>0</td>\n",
       "      <td>0</td>\n",
       "      <td>2</td>\n",
       "      <td>13</td>\n",
       "      <td>14</td>\n",
       "    </tr>\n",
       "  </tbody>\n",
       "</table>\n",
       "</div>"
      ],
      "text/plain": [
       "                  Prefrontal  MotorStrip  Insula  Parietal  Temporal  Limbic\n",
       "Salience                   7           0       1         1         0       1\n",
       "Frontal-Parietal          12           4       0         2         2       0\n",
       "Default                   15           0       0         2        13      14"
      ]
     },
     "execution_count": 5,
     "metadata": {},
     "output_type": "execute_result"
    }
   ],
   "source": [
    "#Distribution of regions by network and lobe\n",
    "pd.DataFrame(lengths2, columns = lobes, index=networks)"
   ]
  },
  {
   "cell_type": "code",
   "execution_count": 15,
   "metadata": {},
   "outputs": [
    {
     "name": "stdout",
     "output_type": "stream",
     "text": [
      "74\n"
     ]
    }
   ],
   "source": [
    "my_dict=regions_from_json(file,networks,verbose=False)\n",
    "regions=my_dict['array']\n",
    "lengths=my_dict['length']\n",
    "r=np.sum(lengths)\n",
    "print(r)"
   ]
  },
  {
   "cell_type": "code",
   "execution_count": 16,
   "metadata": {
    "collapsed": true
   },
   "outputs": [
    {
     "data": {
      "text/plain": [
       "array([  8,  10,  14,  19, 143, 149, 154,  35,  46,  90,   6,   7,  13,\n",
       "        18,  20,  21, 141, 142, 146, 153, 155, 156,  29,  30, 163, 164,\n",
       "        42, 183,  68,  69,   0,   4,   5,   9,  11,  12, 137, 138, 139,\n",
       "       140, 144, 145, 147, 148, 150,  41, 182,  50,  51,  52,  62,  63,\n",
       "       184, 185, 186, 187, 189, 190, 196, 197,  82,  84,  85,  89,  92,\n",
       "        94, 218, 221, 224, 225, 226, 228, 229, 232])"
      ]
     },
     "execution_count": 16,
     "metadata": {},
     "output_type": "execute_result"
    }
   ],
   "source": [
    "regions"
   ]
  },
  {
   "cell_type": "code",
   "execution_count": 9,
   "metadata": {},
   "outputs": [],
   "source": [
    "combs=[a+\"-\"+b for a in networks for b in lobes]"
   ]
  },
  {
   "cell_type": "code",
   "execution_count": 10,
   "metadata": {},
   "outputs": [
    {
     "data": {
      "text/plain": [
       "[0, 7, 7, 8, 9, 9, 10, 22, 26, 26, 28, 30, 30, 45, 45, 45, 47, 60, 74]"
      ]
     },
     "execution_count": 10,
     "metadata": {},
     "output_type": "execute_result"
    }
   ],
   "source": [
    "lims=create_limits(lengths2.flatten())\n",
    "lims"
   ]
  },
  {
   "cell_type": "code",
   "execution_count": 11,
   "metadata": {
    "collapsed": true
   },
   "outputs": [
    {
     "name": "stdout",
     "output_type": "stream",
     "text": [
      "Salience-Prefrontal\n",
      "[  8  10  14  19 143 149 154]\n",
      "Salience-MotorStrip\n",
      "[]\n",
      "Salience-Insula\n",
      "[35]\n",
      "Salience-Parietal\n",
      "[46]\n",
      "Salience-Temporal\n",
      "[]\n",
      "Salience-Limbic\n",
      "[90]\n",
      "Frontal-Parietal-Prefrontal\n",
      "[  6   7  13  18  20  21 141 142 146 153 155 156]\n",
      "Frontal-Parietal-MotorStrip\n",
      "[ 29  30 163 164]\n",
      "Frontal-Parietal-Insula\n",
      "[]\n",
      "Frontal-Parietal-Parietal\n",
      "[ 42 183]\n",
      "Frontal-Parietal-Temporal\n",
      "[68 69]\n",
      "Frontal-Parietal-Limbic\n",
      "[]\n",
      "Default-Prefrontal\n",
      "[  0   4   5   9  11  12 137 138 139 140 144 145 147 148 150]\n",
      "Default-MotorStrip\n",
      "[]\n",
      "Default-Insula\n",
      "[]\n",
      "Default-Parietal\n",
      "[ 41 182]\n",
      "Default-Temporal\n",
      "[ 50  51  52  62  63 184 185 186 187 189 190 196 197]\n",
      "Default-Limbic\n",
      "[ 82  84  85  89  92  94 218 221 224 225 226 228 229 232]\n"
     ]
    }
   ],
   "source": [
    "#Separation of regions by network-lobe\n",
    "for i in range(len(combs)):\n",
    "    comb=combs[i]\n",
    "    print(comb)\n",
    "    regs=regions[lims[i]:lims[i+1]]\n",
    "    print(regs)"
   ]
  },
  {
   "cell_type": "code",
   "execution_count": 36,
   "metadata": {},
   "outputs": [],
   "source": [
    "#Names of regions of chosen networks. Based on labeling_with_full_aal.json\n",
    "ROIS={}\n",
    "for i in range(len(networks)):\n",
    "    net=networks[i]\n",
    "    regs=regions[lims[i]:lims[i+1]]\n",
    "    ROIS[net]={}\n",
    "    for reg in regs:\n",
    "        info= my_names[str(reg+1)]\n",
    "        for name in info.keys(): #name is the aal label\n",
    "            if name in list(ROIS[net].keys()):\n",
    "                ROIS[net][name][0]= ROIS[net][name][0] + round(float(info[name].split('%')[0])/100,2) #sum up percentage\n",
    "                ROIS[net][name][1]= ROIS[net][name][1] + 1 #incidence\n",
    "            else:\n",
    "                ROIS[net][name]=[0,0] #starting it\n",
    "                ROIS[net][name][0]=round(float(info[name].split('%')[0])/100,2) #recover percentage\n",
    "                ROIS[net][name][1]=1  #starting incidence\n",
    "    for name in ROIS[net].keys():\n",
    "         ROIS[net][name][0]=round(ROIS[net][name][0],2) #round final percentage"
   ]
  },
  {
   "cell_type": "code",
   "execution_count": null,
   "metadata": {},
   "outputs": [],
   "source": [
    "#We save to cvs the regions for each network\n",
    "for net in ROIS.keys():\n",
    "    df = pd.DataFrame(list(ROIS[net].items()),columns = ['Regions','Percentage'])\n",
    "    df.to_csv('../Data/ROIS/my_'+net+'.csv')"
   ]
  },
  {
   "cell_type": "code",
   "execution_count": 36,
   "metadata": {},
   "outputs": [],
   "source": [
    "ROIS={}\n",
    "for i in range(len(combs)):\n",
    "    comb=combs[i]\n",
    "    regs=regions[lims[i]:lims[i+1]]\n",
    "    ROIS[comb]={}\n",
    "    for reg in regs:\n",
    "        info= the_dict[reg+1]['name']\n",
    "        parts= info.split(';')\n",
    "        for j in range(len(parts)):\n",
    "            if j == 0:\n",
    "                perc = parts[j].split(' ')[0].split('%')[0]\n",
    "                name = parts[j].split(' ')[1]\n",
    "            else:\n",
    "                perc = parts[j].split(' ')[1].split('%')[0] #there's a space before\n",
    "                name = parts[j].split(' ')[2]\n",
    "            perc= round(float(perc)/100,2)\n",
    "            if name in list(ROIS[comb].keys()):\n",
    "                ROIS[comb][name][0]= ROIS[comb][name][0] + perc #sum up percentage\n",
    "                ROIS[comb][name][1]= ROIS[comb][name][1] + 1 #incidence\n",
    "            else:\n",
    "                ROIS[comb][name]=[0,0]\n",
    "                ROIS[comb][name][0]= perc  # percentage\n",
    "                ROIS[comb][name][1]=1     #starting incidence\n",
    "    for name in ROIS[comb].keys():\n",
    "         ROIS[comb][name][0]=round(ROIS[comb][name][0],2)  #round final percentage"
   ]
  },
  {
   "cell_type": "code",
   "execution_count": 43,
   "metadata": {},
   "outputs": [],
   "source": [
    "for net in ROIS.keys():\n",
    "    if (len(ROIS[net])>1):\n",
    "        df = pd.DataFrame(list(ROIS[net].items()),columns = ['Regions','Percentage'])\n",
    "        df.to_csv('../Data/ROIS/the_'+net+'.csv')"
   ]
  },
  {
   "cell_type": "markdown",
   "metadata": {},
   "source": [
    "## My_ROIS (MNI coordinates)"
   ]
  },
  {
   "cell_type": "code",
   "execution_count": 15,
   "metadata": {},
   "outputs": [
    {
     "name": "stdout",
     "output_type": "stream",
     "text": [
      "[34  4  1  5 15 15]\n",
      "[10 20 44]\n"
     ]
    }
   ],
   "source": [
    "lengths2=np.array(\n",
    "          [[7, 0,1,1,0,1],\n",
    "          [12,4,0,2,2,0],\n",
    "          [15,0,0,2,13,14]])\n",
    "print(np.sum(lengths2,axis=0))\n",
    "print(np.sum(lengths2,axis=1))"
   ]
  },
  {
   "cell_type": "code",
   "execution_count": 16,
   "metadata": {},
   "outputs": [],
   "source": [
    "networks=['Salience','Frontal-Parietal','Default']\n",
    "lobes=['Prefrontal' , 'MotorStrip', 'Insula' , 'Parietal','Temporal','Limbic']"
   ]
  },
  {
   "cell_type": "code",
   "execution_count": 17,
   "metadata": {
    "scrolled": false
   },
   "outputs": [
    {
     "data": {
      "text/html": [
       "<div>\n",
       "<style scoped>\n",
       "    .dataframe tbody tr th:only-of-type {\n",
       "        vertical-align: middle;\n",
       "    }\n",
       "\n",
       "    .dataframe tbody tr th {\n",
       "        vertical-align: top;\n",
       "    }\n",
       "\n",
       "    .dataframe thead th {\n",
       "        text-align: right;\n",
       "    }\n",
       "</style>\n",
       "<table border=\"1\" class=\"dataframe\">\n",
       "  <thead>\n",
       "    <tr style=\"text-align: right;\">\n",
       "      <th></th>\n",
       "      <th>Prefrontal</th>\n",
       "      <th>MotorStrip</th>\n",
       "      <th>Insula</th>\n",
       "      <th>Parietal</th>\n",
       "      <th>Temporal</th>\n",
       "      <th>Limbic</th>\n",
       "    </tr>\n",
       "  </thead>\n",
       "  <tbody>\n",
       "    <tr>\n",
       "      <th>Salience</th>\n",
       "      <td>7</td>\n",
       "      <td>0</td>\n",
       "      <td>1</td>\n",
       "      <td>1</td>\n",
       "      <td>0</td>\n",
       "      <td>1</td>\n",
       "    </tr>\n",
       "    <tr>\n",
       "      <th>Frontal-Parietal</th>\n",
       "      <td>12</td>\n",
       "      <td>4</td>\n",
       "      <td>0</td>\n",
       "      <td>2</td>\n",
       "      <td>2</td>\n",
       "      <td>0</td>\n",
       "    </tr>\n",
       "    <tr>\n",
       "      <th>Default</th>\n",
       "      <td>15</td>\n",
       "      <td>0</td>\n",
       "      <td>0</td>\n",
       "      <td>2</td>\n",
       "      <td>13</td>\n",
       "      <td>14</td>\n",
       "    </tr>\n",
       "  </tbody>\n",
       "</table>\n",
       "</div>"
      ],
      "text/plain": [
       "                  Prefrontal  MotorStrip  Insula  Parietal  Temporal  Limbic\n",
       "Salience                   7           0       1         1         0       1\n",
       "Frontal-Parietal          12           4       0         2         2       0\n",
       "Default                   15           0       0         2        13      14"
      ]
     },
     "execution_count": 17,
     "metadata": {},
     "output_type": "execute_result"
    }
   ],
   "source": [
    "pd.DataFrame(lengths2, columns = lobes, index=networks)"
   ]
  },
  {
   "cell_type": "code",
   "execution_count": 28,
   "metadata": {},
   "outputs": [
    {
     "name": "stdout",
     "output_type": "stream",
     "text": [
      "74\n"
     ]
    }
   ],
   "source": [
    "my_dict=regions_from_json(file,networks,verbose=False)\n",
    "regions=my_dict['array']\n",
    "lengths=my_dict['length']\n",
    "r=np.sum(lengths)\n",
    "print(r)"
   ]
  },
  {
   "cell_type": "code",
   "execution_count": 16,
   "metadata": {
    "collapsed": true
   },
   "outputs": [
    {
     "data": {
      "text/plain": [
       "array([  8,  10,  14,  19, 143, 149, 154,  35,  46,  90,   6,   7,  13,\n",
       "        18,  20,  21, 141, 142, 146, 153, 155, 156,  29,  30, 163, 164,\n",
       "        42, 183,  68,  69,   0,   4,   5,   9,  11,  12, 137, 138, 139,\n",
       "       140, 144, 145, 147, 148, 150,  41, 182,  50,  51,  52,  62,  63,\n",
       "       184, 185, 186, 187, 189, 190, 196, 197,  82,  84,  85,  89,  92,\n",
       "        94, 218, 221, 224, 225, 226, 228, 229, 232])"
      ]
     },
     "execution_count": 16,
     "metadata": {},
     "output_type": "execute_result"
    }
   ],
   "source": [
    "regions"
   ]
  },
  {
   "cell_type": "code",
   "execution_count": 29,
   "metadata": {},
   "outputs": [],
   "source": [
    "combs=[a+\"-\"+b for a in networks for b in lobes]"
   ]
  },
  {
   "cell_type": "code",
   "execution_count": 30,
   "metadata": {},
   "outputs": [
    {
     "data": {
      "text/plain": [
       "[0, 7, 7, 8, 9, 9, 10, 22, 26, 26, 28, 30, 30, 45, 45, 45, 47, 60, 74]"
      ]
     },
     "execution_count": 30,
     "metadata": {},
     "output_type": "execute_result"
    }
   ],
   "source": [
    "lims=create_limits(lengths2.flatten())\n",
    "lims"
   ]
  },
  {
   "cell_type": "code",
   "execution_count": 31,
   "metadata": {
    "collapsed": true
   },
   "outputs": [
    {
     "name": "stdout",
     "output_type": "stream",
     "text": [
      "Salience-Prefrontal\n",
      "[  8  10  14  19 143 149 154]\n",
      "Salience-MotorStrip\n",
      "[]\n",
      "Salience-Insula\n",
      "[35]\n",
      "Salience-Parietal\n",
      "[46]\n",
      "Salience-Temporal\n",
      "[]\n",
      "Salience-Limbic\n",
      "[90]\n",
      "Frontal-Parietal-Prefrontal\n",
      "[  6   7  13  18  20  21 141 142 146 153 155 156]\n",
      "Frontal-Parietal-MotorStrip\n",
      "[ 29  30 163 164]\n",
      "Frontal-Parietal-Insula\n",
      "[]\n",
      "Frontal-Parietal-Parietal\n",
      "[ 42 183]\n",
      "Frontal-Parietal-Temporal\n",
      "[68 69]\n",
      "Frontal-Parietal-Limbic\n",
      "[]\n",
      "Default-Prefrontal\n",
      "[  0   4   5   9  11  12 137 138 139 140 144 145 147 148 150]\n",
      "Default-MotorStrip\n",
      "[]\n",
      "Default-Insula\n",
      "[]\n",
      "Default-Parietal\n",
      "[ 41 182]\n",
      "Default-Temporal\n",
      "[ 50  51  52  62  63 184 185 186 187 189 190 196 197]\n",
      "Default-Limbic\n",
      "[ 82  84  85  89  92  94 218 221 224 225 226 228 229 232]\n"
     ]
    }
   ],
   "source": [
    "for i in range(len(combs)):\n",
    "    comb=combs[i]\n",
    "    print(comb)\n",
    "    regs=regions[lims[i]:lims[i+1]]\n",
    "    print(regs)"
   ]
  },
  {
   "cell_type": "code",
   "execution_count": 61,
   "metadata": {},
   "outputs": [],
   "source": [
    "MNI=[]"
   ]
  },
  {
   "cell_type": "code",
   "execution_count": 62,
   "metadata": {},
   "outputs": [],
   "source": [
    "for reg in regions:\n",
    "    vec=['a']*4\n",
    "    vec[0]=int(reg+1)\n",
    "    vec[1:]=np.round(the_dict[reg+1]['coords'],2)\n",
    "    MNI.append(vec)"
   ]
  },
  {
   "cell_type": "code",
   "execution_count": 64,
   "metadata": {},
   "outputs": [],
   "source": [
    "MNI_tab=pd.DataFrame(MNI, columns = [\"Region\",\"x\",\"y\",\"z\"])"
   ]
  },
  {
   "cell_type": "code",
   "execution_count": 65,
   "metadata": {},
   "outputs": [],
   "source": [
    "MNI_tab.to_csv('../Data/ROIS/the_coordinates.csv')"
   ]
  }
 ],
 "metadata": {
  "kernelspec": {
   "display_name": "Python 3",
   "language": "python",
   "name": "python3"
  },
  "language_info": {
   "codemirror_mode": {
    "name": "ipython",
    "version": 3
   },
   "file_extension": ".py",
   "mimetype": "text/x-python",
   "name": "python",
   "nbconvert_exporter": "python",
   "pygments_lexer": "ipython3",
   "version": "3.8.5"
  }
 },
 "nbformat": 4,
 "nbformat_minor": 4
}
