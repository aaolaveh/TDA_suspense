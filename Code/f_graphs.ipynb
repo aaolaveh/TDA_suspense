{
 "cells": [
  {
   "cell_type": "markdown",
   "metadata": {},
   "source": [
    "## We recognize the connecting points\n",
    "## We recognize the communities\n",
    "## We calculate STM\n",
    "## We calculate the clusters directly from the distance's matrix"
   ]
  },
  {
   "cell_type": "code",
   "execution_count": 1,
   "metadata": {
    "collapsed": true
   },
   "outputs": [
    {
     "name": "stderr",
     "output_type": "stream",
     "text": [
      "Loading required package: MASS\n",
      "\n",
      "Loading required package: grid\n",
      "\n",
      "Loading required package: colorspace\n",
      "\n",
      "Loading required package: lattice\n",
      "\n",
      "Warning message:\n",
      "“replacing previous import ‘ellipsis::check_dots_unnamed’ by ‘rlang::check_dots_unnamed’ when loading ‘tibble’”\n",
      "Warning message:\n",
      "“replacing previous import ‘ellipsis::check_dots_used’ by ‘rlang::check_dots_used’ when loading ‘tibble’”\n",
      "Warning message:\n",
      "“replacing previous import ‘ellipsis::check_dots_empty’ by ‘rlang::check_dots_empty’ when loading ‘tibble’”\n",
      "\n",
      "Attaching package: ‘igraph’\n",
      "\n",
      "\n",
      "The following objects are masked from ‘package:stats’:\n",
      "\n",
      "    decompose, spectrum\n",
      "\n",
      "\n",
      "The following object is masked from ‘package:base’:\n",
      "\n",
      "    union\n",
      "\n",
      "\n",
      "\n",
      "Attaching package: ‘gtools’\n",
      "\n",
      "\n",
      "The following object is masked from ‘package:igraph’:\n",
      "\n",
      "    permute\n",
      "\n",
      "\n",
      "Loading required package: plotrix\n",
      "\n",
      "Loading required package: slam\n",
      "\n",
      "Using the GLPK callable library version 4.65\n",
      "\n",
      "\n",
      "Attaching package: ‘matlab’\n",
      "\n",
      "\n",
      "The following object is masked from ‘package:stats’:\n",
      "\n",
      "    reshape\n",
      "\n",
      "\n",
      "The following objects are masked from ‘package:utils’:\n",
      "\n",
      "    find, fix\n",
      "\n",
      "\n",
      "The following object is masked from ‘package:base’:\n",
      "\n",
      "    sum\n",
      "\n",
      "\n"
     ]
    }
   ],
   "source": [
    "library(\"Mapper\")\n",
    "library(\"biclust\")\n",
    "library(\"igraph\")\n",
    "library(\"pals\")\n",
    "library(\"gtools\")\n",
    "library(\"RcppCNPy\")\n",
    "library(\"stringr\")\n",
    "require(\"plotrix\") \n",
    "library(\"lattice\")\n",
    "library(\"Rglpk\")\n",
    "library(\"matlab\")\n",
    "source(\"functions-R.R\") #Functionslibrary(\"biclust\")"
   ]
  },
  {
   "cell_type": "code",
   "execution_count": 2,
   "metadata": {},
   "outputs": [
    {
     "data": {
      "text/html": [
       "193"
      ],
      "text/latex": [
       "193"
      ],
      "text/markdown": [
       "193"
      ],
      "text/plain": [
       "[1] 193"
      ]
     },
     "metadata": {},
     "output_type": "display_data"
    }
   ],
   "source": [
    "suspense=npyLoad(\"../Data/avg_suspense.npy\")\n",
    "length(suspense)"
   ]
  },
  {
   "cell_type": "code",
   "execution_count": 3,
   "metadata": {},
   "outputs": [
    {
     "data": {
      "text/html": [
       "<style>\n",
       ".list-inline {list-style: none; margin:0; padding: 0}\n",
       ".list-inline>li {display: inline-block}\n",
       ".list-inline>li:not(:last-child)::after {content: \"\\00b7\"; padding: 0 .5ex}\n",
       "</style>\n",
       "<ol class=list-inline><li>'../Data/mapper/all_l1_cmds.rds'</li><li>'../Data/mapper/all_l1_iso_rand.rds'</li><li>'../Data/mapper/all_l1_mmds.rds'</li><li>'../Data/mapper/all_l1-nothres_iso.rds'</li><li>'../Data/mapper/all_l1_se.rds'</li><li>'../Data/mapper/all_l1-thres_iso.rds'</li></ol>\n"
      ],
      "text/latex": [
       "\\begin{enumerate*}\n",
       "\\item '../Data/mapper/all\\_l1\\_cmds.rds'\n",
       "\\item '../Data/mapper/all\\_l1\\_iso\\_rand.rds'\n",
       "\\item '../Data/mapper/all\\_l1\\_mmds.rds'\n",
       "\\item '../Data/mapper/all\\_l1-nothres\\_iso.rds'\n",
       "\\item '../Data/mapper/all\\_l1\\_se.rds'\n",
       "\\item '../Data/mapper/all\\_l1-thres\\_iso.rds'\n",
       "\\end{enumerate*}\n"
      ],
      "text/markdown": [
       "1. '../Data/mapper/all_l1_cmds.rds'\n",
       "2. '../Data/mapper/all_l1_iso_rand.rds'\n",
       "3. '../Data/mapper/all_l1_mmds.rds'\n",
       "4. '../Data/mapper/all_l1-nothres_iso.rds'\n",
       "5. '../Data/mapper/all_l1_se.rds'\n",
       "6. '../Data/mapper/all_l1-thres_iso.rds'\n",
       "\n",
       "\n"
      ],
      "text/plain": [
       "[1] \"../Data/mapper/all_l1_cmds.rds\"       \n",
       "[2] \"../Data/mapper/all_l1_iso_rand.rds\"   \n",
       "[3] \"../Data/mapper/all_l1_mmds.rds\"       \n",
       "[4] \"../Data/mapper/all_l1-nothres_iso.rds\"\n",
       "[5] \"../Data/mapper/all_l1_se.rds\"         \n",
       "[6] \"../Data/mapper/all_l1-thres_iso.rds\"  "
      ]
     },
     "metadata": {},
     "output_type": "display_data"
    }
   ],
   "source": [
    "mappers=Sys.glob(\"../Data/mapper/*.rds\")\n",
    "mappers"
   ]
  },
  {
   "cell_type": "code",
   "execution_count": 4,
   "metadata": {},
   "outputs": [],
   "source": [
    "m = readRDS(mappers[6])"
   ]
  },
  {
   "cell_type": "code",
   "execution_count": 5,
   "metadata": {},
   "outputs": [],
   "source": [
    "i=18"
   ]
  },
  {
   "cell_type": "code",
   "execution_count": 6,
   "metadata": {},
   "outputs": [
    {
     "data": {
      "text/plain": [
       "Fixed Interval Cover: (number intervals = [6, 6], percent overlap = [35, 35]%)"
      ]
     },
     "metadata": {},
     "output_type": "display_data"
    }
   ],
   "source": [
    "m[[i]]"
   ]
  },
  {
   "cell_type": "code",
   "execution_count": 7,
   "metadata": {},
   "outputs": [],
   "source": [
    "graph=m[[i]]$graph\n",
    "vert=m[[i]]$vertices"
   ]
  },
  {
   "cell_type": "markdown",
   "metadata": {},
   "source": [
    "## Detection of connecting points\n",
    "Points that when they are removed the graph has one more connected component (path connected)"
   ]
  },
  {
   "cell_type": "code",
   "execution_count": 9,
   "metadata": {},
   "outputs": [
    {
     "data": {
      "text/html": [
       "<style>\n",
       ".list-inline {list-style: none; margin:0; padding: 0}\n",
       ".list-inline>li {display: inline-block}\n",
       ".list-inline>li:not(:last-child)::after {content: \"\\00b7\"; padding: 0 .5ex}\n",
       "</style>\n",
       "<ol class=list-inline><li>6</li><li>10</li><li>15</li><li>26</li><li>37</li><li>39</li></ol>\n"
      ],
      "text/latex": [
       "\\begin{enumerate*}\n",
       "\\item 6\n",
       "\\item 10\n",
       "\\item 15\n",
       "\\item 26\n",
       "\\item 37\n",
       "\\item 39\n",
       "\\end{enumerate*}\n"
      ],
      "text/markdown": [
       "1. 6\n",
       "2. 10\n",
       "3. 15\n",
       "4. 26\n",
       "5. 37\n",
       "6. 39\n",
       "\n",
       "\n"
      ],
      "text/plain": [
       "[1]  6 10 15 26 37 39"
      ]
     },
     "metadata": {},
     "output_type": "display_data"
    }
   ],
   "source": [
    "connectors(graph)\n",
    "minimum.size.separators(graph)"
   ]
  },
  {
   "cell_type": "markdown",
   "metadata": {},
   "source": [
    "## Detection of communities"
   ]
  },
  {
   "cell_type": "code",
   "execution_count": null,
   "metadata": {},
   "outputs": [],
   "source": [
    "communities=cluster_walktrap(graph)"
   ]
  },
  {
   "cell_type": "code",
   "execution_count": null,
   "metadata": {},
   "outputs": [],
   "source": [
    "communities$membership\n",
    "modularity(communities)"
   ]
  },
  {
   "cell_type": "code",
   "execution_count": null,
   "metadata": {},
   "outputs": [],
   "source": [
    "for (i in 1:max(communities$membership))\n",
    "    print(communities[[i]])"
   ]
  },
  {
   "cell_type": "code",
   "execution_count": null,
   "metadata": {},
   "outputs": [],
   "source": [
    "#The only community that I want it recognizes is this one\n",
    "\n",
    "Vertices=list()\n",
    "#Inferior (112-145)\n",
    "for (j in 1:max(communities$membership)){\n",
    "    nodes=unlist(lapply(communities[[j]],as.integer))+1\n",
    "    vertices = c()\n",
    "    for (i in nodes)\n",
    "        vertices=c(vertices,vert[[i]])\n",
    "    Vertices[[j]] =sort(unique(vertices))\n",
    "}\n",
    "#vertices "
   ]
  },
  {
   "cell_type": "code",
   "execution_count": null,
   "metadata": {},
   "outputs": [],
   "source": [
    "lapply(Vertices,recog_block)"
   ]
  },
  {
   "cell_type": "code",
   "execution_count": null,
   "metadata": {},
   "outputs": [],
   "source": [
    "# My commmunities including the one above\n",
    "comm=list()\n",
    "Vertices=list()\n",
    "\n",
    "comm[[1]]=c(4,6,11,14,15) #15\n",
    "vertices = c()\n",
    "for (i in comm[[1]])\n",
    "    vertices=c(vertices,vert[[i]])\n",
    "Vertices[[1]]=sort(unique(vertices))\n",
    "#vertices\n",
    "\n",
    "#Inferior\n",
    "comm[[2]]=c(31,32,34,35,37,39,41,42,44,47,48) \n",
    "vertices=c()\n",
    "for (i in comm[[2]])\n",
    "     vertices=c(vertices,vert[[i]])\n",
    "Vertices[[2]]=sort(unique(vertices))\n",
    "#vertices\n",
    "\n",
    "#Middle\n",
    "comm[[3]]=c(1,2,8)\n",
    "vertices = c()\n",
    "for (i in comm[[3]])\n",
    "    vertices=c(vertices,vert[[i]])\n",
    "Vertices[[3]]=sort(unique(vertices))\n",
    "#vertices\n",
    "\n",
    "#Upper 146-176\n",
    "comm[[4]]= c(3,5,7,9,13,17,21,23,24,27,10) #10 \n",
    "vertices = c()\n",
    "for (i in comm[[4]])\n",
    "    vertices=c(vertices,vert[[i]])\n",
    "Vertices[[4]]=sort(unique(vertices))\n",
    "#vertices \n",
    "\n",
    "#Middle 1\n",
    "comm[[5]]=c(20,22,25,33,36,40,43) #20\n",
    "vertices=c()\n",
    "for (i in comm[[5]])\n",
    "    vertices=c(vertices,vert[[i]])\n",
    "Vertices[[5]]=sort(unique(vertices))\n",
    "#vertices \n",
    "\n",
    "#Middle 2\n",
    "comm[[6]]=c(38,45,46,49,50,51,52) #38,49,50\n",
    "vertices=c()\n",
    "for (i in comm[[6]])\n",
    "    vertices=c(vertices,vert[[i]])\n",
    "Vertices[[6]]=sort(unique(vertices))\n",
    "#vertices\n",
    "\n",
    "#Middle 3\n",
    "comm[[7]]=c(12,16,18,19,26,28,29,30) #26\n",
    "vertices=c()\n",
    "for (i in comm[[7]])\n",
    "    vertices=c(vertices,vert[[i]])\n",
    "Vertices[[7]]=sort(unique(vertices))\n",
    "#vertices\n"
   ]
  },
  {
   "cell_type": "code",
   "execution_count": null,
   "metadata": {},
   "outputs": [],
   "source": [
    "vert[[12]]"
   ]
  },
  {
   "cell_type": "code",
   "execution_count": null,
   "metadata": {},
   "outputs": [],
   "source": [
    "lapply(Vertices,recog_block)"
   ]
  },
  {
   "cell_type": "markdown",
   "metadata": {},
   "source": [
    "### Modularity score of my communities"
   ]
  },
  {
   "cell_type": "code",
   "execution_count": null,
   "metadata": {},
   "outputs": [],
   "source": [
    "my_comm = rep(7,52)\n",
    "for (i in 1:length(comm)){\n",
    "    index=comm[[i]]\n",
    "    my_comm[index]=i\n",
    "}  "
   ]
  },
  {
   "cell_type": "code",
   "execution_count": null,
   "metadata": {},
   "outputs": [],
   "source": [
    "my_comm"
   ]
  },
  {
   "cell_type": "code",
   "execution_count": null,
   "metadata": {},
   "outputs": [],
   "source": [
    "modularity(graph,my_comm)"
   ]
  },
  {
   "cell_type": "markdown",
   "metadata": {},
   "source": [
    "## Degree"
   ]
  },
  {
   "cell_type": "code",
   "execution_count": 10,
   "metadata": {},
   "outputs": [
    {
     "data": {
      "text/html": [
       "<style>\n",
       ".dl-inline {width: auto; margin:0; padding: 0}\n",
       ".dl-inline>dt, .dl-inline>dd {float: none; width: auto; display: inline-block}\n",
       ".dl-inline>dt::after {content: \":\\0020\"; padding-right: .5ex}\n",
       ".dl-inline>dt:not(:first-of-type) {padding-left: .5ex}\n",
       "</style><dl class=dl-inline><dt>13</dt><dd>1</dd><dt>19</dt><dd>2</dd><dt>37</dt><dd>2</dd><dt>48</dt><dd>2</dd><dt>49</dt><dd>2</dd><dt>0</dt><dd>3</dd><dt>1</dt><dd>3</dd><dt>2</dt><dd>3</dd><dt>3</dt><dd>3</dd><dt>6</dt><dd>3</dd><dt>8</dt><dd>3</dd><dt>10</dt><dd>3</dd><dt>15</dt><dd>3</dd><dt>16</dt><dd>3</dd><dt>18</dt><dd>3</dd><dt>20</dt><dd>3</dd><dt>22</dt><dd>3</dd><dt>23</dt><dd>3</dd><dt>24</dt><dd>3</dd><dt>26</dt><dd>3</dd><dt>30</dt><dd>3</dd><dt>31</dt><dd>3</dd><dt>34</dt><dd>3</dd><dt>39</dt><dd>3</dd><dt>43</dt><dd>3</dd><dt>44</dt><dd>3</dd><dt>46</dt><dd>3</dd><dt>47</dt><dd>3</dd><dt>51</dt><dd>3</dd><dt>5</dt><dd>4</dd><dt>7</dt><dd>4</dd><dt>11</dt><dd>4</dd><dt>21</dt><dd>4</dd><dt>25</dt><dd>4</dd><dt>29</dt><dd>4</dd><dt>36</dt><dd>4</dd><dt>42</dt><dd>4</dd><dt>45</dt><dd>4</dd><dt>50</dt><dd>4</dd><dt>4</dt><dd>5</dd><dt>17</dt><dd>5</dd><dt>28</dt><dd>5</dd><dt>32</dt><dd>5</dd><dt>33</dt><dd>5</dd><dt>35</dt><dd>5</dd><dt>40</dt><dd>5</dd><dt>41</dt><dd>5</dd><dt>14</dt><dd>6</dd><dt>27</dt><dd>6</dd><dt>12</dt><dd>7</dd><dt>38</dt><dd>8</dd><dt>9</dt><dd>12</dd></dl>\n"
      ],
      "text/latex": [
       "\\begin{description*}\n",
       "\\item[13] 1\n",
       "\\item[19] 2\n",
       "\\item[37] 2\n",
       "\\item[48] 2\n",
       "\\item[49] 2\n",
       "\\item[0] 3\n",
       "\\item[1] 3\n",
       "\\item[2] 3\n",
       "\\item[3] 3\n",
       "\\item[6] 3\n",
       "\\item[8] 3\n",
       "\\item[10] 3\n",
       "\\item[15] 3\n",
       "\\item[16] 3\n",
       "\\item[18] 3\n",
       "\\item[20] 3\n",
       "\\item[22] 3\n",
       "\\item[23] 3\n",
       "\\item[24] 3\n",
       "\\item[26] 3\n",
       "\\item[30] 3\n",
       "\\item[31] 3\n",
       "\\item[34] 3\n",
       "\\item[39] 3\n",
       "\\item[43] 3\n",
       "\\item[44] 3\n",
       "\\item[46] 3\n",
       "\\item[47] 3\n",
       "\\item[51] 3\n",
       "\\item[5] 4\n",
       "\\item[7] 4\n",
       "\\item[11] 4\n",
       "\\item[21] 4\n",
       "\\item[25] 4\n",
       "\\item[29] 4\n",
       "\\item[36] 4\n",
       "\\item[42] 4\n",
       "\\item[45] 4\n",
       "\\item[50] 4\n",
       "\\item[4] 5\n",
       "\\item[17] 5\n",
       "\\item[28] 5\n",
       "\\item[32] 5\n",
       "\\item[33] 5\n",
       "\\item[35] 5\n",
       "\\item[40] 5\n",
       "\\item[41] 5\n",
       "\\item[14] 6\n",
       "\\item[27] 6\n",
       "\\item[12] 7\n",
       "\\item[38] 8\n",
       "\\item[9] 12\n",
       "\\end{description*}\n"
      ],
      "text/markdown": [
       "13\n",
       ":   119\n",
       ":   237\n",
       ":   248\n",
       ":   249\n",
       ":   20\n",
       ":   31\n",
       ":   32\n",
       ":   33\n",
       ":   36\n",
       ":   38\n",
       ":   310\n",
       ":   315\n",
       ":   316\n",
       ":   318\n",
       ":   320\n",
       ":   322\n",
       ":   323\n",
       ":   324\n",
       ":   326\n",
       ":   330\n",
       ":   331\n",
       ":   334\n",
       ":   339\n",
       ":   343\n",
       ":   344\n",
       ":   346\n",
       ":   347\n",
       ":   351\n",
       ":   35\n",
       ":   47\n",
       ":   411\n",
       ":   421\n",
       ":   425\n",
       ":   429\n",
       ":   436\n",
       ":   442\n",
       ":   445\n",
       ":   450\n",
       ":   44\n",
       ":   517\n",
       ":   528\n",
       ":   532\n",
       ":   533\n",
       ":   535\n",
       ":   540\n",
       ":   541\n",
       ":   514\n",
       ":   627\n",
       ":   612\n",
       ":   738\n",
       ":   89\n",
       ":   12\n",
       "\n"
      ],
      "text/plain": [
       "13 19 37 48 49  0  1  2  3  6  8 10 15 16 18 20 22 23 24 26 30 31 34 39 43 44 \n",
       " 1  2  2  2  2  3  3  3  3  3  3  3  3  3  3  3  3  3  3  3  3  3  3  3  3  3 \n",
       "46 47 51  5  7 11 21 25 29 36 42 45 50  4 17 28 32 33 35 40 41 14 27 12 38  9 \n",
       " 3  3  3  4  4  4  4  4  4  4  4  4  4  5  5  5  5  5  5  5  5  6  6  7  8 12 "
      ]
     },
     "metadata": {},
     "output_type": "display_data"
    }
   ],
   "source": [
    "deg=degree(graph)\n",
    "sort(deg)"
   ]
  },
  {
   "cell_type": "code",
   "execution_count": 11,
   "metadata": {},
   "outputs": [
    {
     "data": {
      "text/html": [
       "3.84615384615385"
      ],
      "text/latex": [
       "3.84615384615385"
      ],
      "text/markdown": [
       "3.84615384615385"
      ],
      "text/plain": [
       "[1] 3.846154"
      ]
     },
     "metadata": {},
     "output_type": "display_data"
    }
   ],
   "source": [
    "mean(deg)"
   ]
  },
  {
   "cell_type": "markdown",
   "metadata": {},
   "source": [
    "## STM"
   ]
  },
  {
   "cell_type": "code",
   "execution_count": 8,
   "metadata": {},
   "outputs": [],
   "source": [
    "i=18"
   ]
  },
  {
   "cell_type": "code",
   "execution_count": 9,
   "metadata": {
    "scrolled": true
   },
   "outputs": [
    {
     "data": {
      "text/plain": [
       "Fixed Interval Cover: (number intervals = [6, 6], percent overlap = [35, 35]%)"
      ]
     },
     "metadata": {},
     "output_type": "display_data"
    }
   ],
   "source": [
    "m[[i]]\n",
    "vert=m[[i]]$vertices\n",
    "adj=m[[i]]$edges\n",
    "M=tcm_matrix(vert,adj)\n",
    "#save(M,file=\"../Data/all_l1_iso_tcm_6_35.RData\")"
   ]
  },
  {
   "cell_type": "code",
   "execution_count": 85,
   "metadata": {},
   "outputs": [
    {
     "data": {
      "image/png": "[encoded data removed]",
      "text/plain": [
       "plot without title"
      ]
     },
     "metadata": {
      "image/png": {
       "height": 420,
       "width": 420
      }
     },
     "output_type": "display_data"
    }
   ],
   "source": [
    "blocks=c(37,113,145)\n",
    "par=(pin=c(8,7))\n",
    "levelplot(M,col.regions=jet.colors(100),ylim=rev(c(0.5, 176.5)),\n",
    "         panel = function(...){\n",
    "            panel.levelplot(...)\n",
    "            panel.abline(v = blocks,h= blocks,lwd=1,col='white')} \n",
    "         )"
   ]
  },
  {
   "cell_type": "code",
   "execution_count": 14,
   "metadata": {
    "collapsed": true
   },
   "outputs": [
    {
     "data": {
      "image/png": "[encoded data removed]",
      "text/plain": [
       "plot without title"
      ]
     },
     "metadata": {
      "image/png": {
       "height": 420,
       "width": 420
      }
     },
     "output_type": "display_data"
    }
   ],
   "source": [
    "heatmap(M,distfun = function(x) dist(x,method = 'manhattan'),hclustfun = function(x) hclust(x,method = 'complete'),col=jet.colors(100))"
   ]
  },
  {
   "cell_type": "markdown",
   "metadata": {},
   "source": [
    "### Recognize blocks using clustering"
   ]
  },
  {
   "cell_type": "code",
   "execution_count": 101,
   "metadata": {},
   "outputs": [],
   "source": [
    "D=dist(M, method = \"manhattan\" )"
   ]
  },
  {
   "cell_type": "code",
   "execution_count": 109,
   "metadata": {},
   "outputs": [],
   "source": [
    "hcl=list()\n",
    "hcl[[1]]=hclust(D,method='single')\n",
    "hcl[[2]]=hclust(D,method='complete')\n",
    "hcl[[3]]=hclust(D,method='ward.D')\n",
    "\n",
    "eps=list()\n",
    "eps[[1]]=cutoff_first_threshold(hcl[[1]])\n",
    "eps[[2]]=cutoff_first_threshold(hcl[[2]])\n",
    "eps[[3]]=cutoff_first_threshold(hcl[[3]])\n",
    "eps[[3]]=3000\n",
    "\n",
    "mega_blocks=list()\n",
    "for (i in 1:3){\n",
    "    vector=cutree(hcl[[i]], h = eps[[i]])   \n",
    "    c=length(unique(vector))\n",
    "    cluster=list()\n",
    "    for (j in 1:c){\n",
    "        cluster[[j]]=which(vector == j, arr.ind = TRUE)\n",
    "    }\n",
    "   \n",
    "    mega_blocks[[i]]=lapply(cluster,recog_block)\n",
    "}"
   ]
  },
  {
   "cell_type": "code",
   "execution_count": 110,
   "metadata": {},
   "outputs": [
    {
     "data": {
      "image/png": "[encoded data removed]",
      "text/plain": [
       "Plot with title “”"
      ]
     },
     "metadata": {
      "image/png": {
       "height": 420,
       "width": 420
      }
     },
     "output_type": "display_data"
    }
   ],
   "source": [
    "plot(hcl[[3]],sub=NULL,xlab=NULL,main=\"\")"
   ]
  },
  {
   "cell_type": "code",
   "execution_count": 111,
   "metadata": {},
   "outputs": [
    {
     "data": {
      "text/html": [
       "<ol>\n",
       "\t<li><table>\n",
       "<caption>A matrix: 1 × 2 of type dbl</caption>\n",
       "<tbody>\n",
       "\t<tr><th scope=row>vec</th><td>1</td><td>37</td></tr>\n",
       "</tbody>\n",
       "</table>\n",
       "</li>\n",
       "\t<li><table>\n",
       "<caption>A matrix: 5 × 2 of type dbl</caption>\n",
       "<tbody>\n",
       "\t<tr><th scope=row>vec</th><td> 38</td><td> 89</td></tr>\n",
       "\t<tr><th scope=row>vec</th><td> 91</td><td> 99</td></tr>\n",
       "\t<tr><th scope=row>vec</th><td>104</td><td>113</td></tr>\n",
       "\t<tr><th scope=row>vec</th><td>146</td><td>146</td></tr>\n",
       "\t<tr><th scope=row>vec</th><td>149</td><td>153</td></tr>\n",
       "</tbody>\n",
       "</table>\n",
       "</li>\n",
       "\t<li><table>\n",
       "<caption>A matrix: 4 × 2 of type dbl</caption>\n",
       "<tbody>\n",
       "\t<tr><th scope=row>vec</th><td> 90</td><td> 90</td></tr>\n",
       "\t<tr><th scope=row>vec</th><td>100</td><td>103</td></tr>\n",
       "\t<tr><th scope=row>vec</th><td>147</td><td>148</td></tr>\n",
       "\t<tr><th scope=row>vec</th><td>154</td><td>176</td></tr>\n",
       "</tbody>\n",
       "</table>\n",
       "</li>\n",
       "\t<li><table>\n",
       "<caption>A matrix: 1 × 2 of type dbl</caption>\n",
       "<tbody>\n",
       "\t<tr><th scope=row>vec</th><td>114</td><td>145</td></tr>\n",
       "</tbody>\n",
       "</table>\n",
       "</li>\n",
       "</ol>\n"
      ],
      "text/latex": [
       "\\begin{enumerate}\n",
       "\\item A matrix: 1 × 2 of type dbl\n",
       "\\begin{tabular}{r|ll}\n",
       "\tvec & 1 & 37\\\\\n",
       "\\end{tabular}\n",
       "\n",
       "\\item A matrix: 5 × 2 of type dbl\n",
       "\\begin{tabular}{r|ll}\n",
       "\tvec &  38 &  89\\\\\n",
       "\tvec &  91 &  99\\\\\n",
       "\tvec & 104 & 113\\\\\n",
       "\tvec & 146 & 146\\\\\n",
       "\tvec & 149 & 153\\\\\n",
       "\\end{tabular}\n",
       "\n",
       "\\item A matrix: 4 × 2 of type dbl\n",
       "\\begin{tabular}{r|ll}\n",
       "\tvec &  90 &  90\\\\\n",
       "\tvec & 100 & 103\\\\\n",
       "\tvec & 147 & 148\\\\\n",
       "\tvec & 154 & 176\\\\\n",
       "\\end{tabular}\n",
       "\n",
       "\\item A matrix: 1 × 2 of type dbl\n",
       "\\begin{tabular}{r|ll}\n",
       "\tvec & 114 & 145\\\\\n",
       "\\end{tabular}\n",
       "\n",
       "\\end{enumerate}\n"
      ],
      "text/markdown": [
       "1. \n",
       "A matrix: 1 × 2 of type dbl\n",
       "\n",
       "| vec | 1 | 37 |\n",
       "\n",
       "\n",
       "2. \n",
       "A matrix: 5 × 2 of type dbl\n",
       "\n",
       "| vec |  38 |  89 |\n",
       "| vec |  91 |  99 |\n",
       "| vec | 104 | 113 |\n",
       "| vec | 146 | 146 |\n",
       "| vec | 149 | 153 |\n",
       "\n",
       "\n",
       "3. \n",
       "A matrix: 4 × 2 of type dbl\n",
       "\n",
       "| vec |  90 |  90 |\n",
       "| vec | 100 | 103 |\n",
       "| vec | 147 | 148 |\n",
       "| vec | 154 | 176 |\n",
       "\n",
       "\n",
       "4. \n",
       "A matrix: 1 × 2 of type dbl\n",
       "\n",
       "| vec | 114 | 145 |\n",
       "\n",
       "\n",
       "\n",
       "\n"
      ],
      "text/plain": [
       "[[1]]\n",
       "    [,1] [,2]\n",
       "vec    1   37\n",
       "\n",
       "[[2]]\n",
       "    [,1] [,2]\n",
       "vec   38   89\n",
       "vec   91   99\n",
       "vec  104  113\n",
       "vec  146  146\n",
       "vec  149  153\n",
       "\n",
       "[[3]]\n",
       "    [,1] [,2]\n",
       "vec   90   90\n",
       "vec  100  103\n",
       "vec  147  148\n",
       "vec  154  176\n",
       "\n",
       "[[4]]\n",
       "    [,1] [,2]\n",
       "vec  114  145\n"
      ]
     },
     "metadata": {},
     "output_type": "display_data"
    }
   ],
   "source": [
    "mega_blocks[[3]]"
   ]
  },
  {
   "cell_type": "code",
   "execution_count": 112,
   "metadata": {},
   "outputs": [],
   "source": [
    "blocks=mega_blocks[[3]]\n",
    "save(blocks,file=\"../Data/blocks.Rdata\")"
   ]
  },
  {
   "cell_type": "markdown",
   "metadata": {},
   "source": [
    "### Spectral clustering"
   ]
  },
  {
   "cell_type": "code",
   "execution_count": 61,
   "metadata": {},
   "outputs": [],
   "source": [
    " graph_laplacian <- function(W, normalized = TRUE)\n",
    "  {\n",
    "    stopifnot(nrow(W) == ncol(W)) \n",
    "    \n",
    "    g = colSums(W) # degrees of vertices\n",
    "    n = nrow(W)\n",
    "    \n",
    "    if(normalized)\n",
    "    {\n",
    "      D_half = diag(1 / sqrt(g) )\n",
    "      return( diag(n) - D_half %*% W %*% D_half )\n",
    "    }\n",
    "    else\n",
    "    {\n",
    "      return( diag(g) - W )\n",
    "    }\n",
    "  }"
   ]
  },
  {
   "cell_type": "code",
   "execution_count": 89,
   "metadata": {},
   "outputs": [],
   "source": [
    "n_eig = 5\n",
    "L = graph_laplacian(M) # 2. compute graph laplacian\n",
    "ei = eigen(L, symmetric = TRUE) # 3. Compute the eigenvectors and values of L\n",
    "n = nrow(L)\n",
    "M_sc = ei$vectors[,(n - n_eig):(n - 1)] # return the eigenvectors of the n_eig smallest eigenvalues\n",
    "\n",
    "# run kmeans on the 2 eigenvectors\n",
    "M_sc_kmeans <- kmeans(M_sc, 4)"
   ]
  },
  {
   "cell_type": "code",
   "execution_count": 90,
   "metadata": {},
   "outputs": [
    {
     "data": {
      "text/html": [
       "<style>\n",
       ".list-inline {list-style: none; margin:0; padding: 0}\n",
       ".list-inline>li {display: inline-block}\n",
       ".list-inline>li:not(:last-child)::after {content: \"\\00b7\"; padding: 0 .5ex}\n",
       "</style>\n",
       "<ol class=list-inline><li>4</li><li>4</li><li>4</li><li>4</li><li>4</li><li>4</li><li>4</li><li>4</li><li>4</li><li>4</li><li>4</li><li>4</li><li>4</li><li>4</li><li>4</li><li>4</li><li>4</li><li>4</li><li>4</li><li>4</li><li>4</li><li>4</li><li>4</li><li>4</li><li>4</li><li>4</li><li>4</li><li>4</li><li>4</li><li>2</li><li>2</li><li>2</li><li>2</li><li>2</li><li>2</li><li>2</li><li>2</li><li>2</li><li>2</li><li>2</li><li>2</li><li>2</li><li>2</li><li>2</li><li>2</li><li>2</li><li>2</li><li>2</li><li>2</li><li>2</li><li>2</li><li>2</li><li>2</li><li>3</li><li>3</li><li>3</li><li>3</li><li>3</li><li>3</li><li>3</li><li>3</li><li>3</li><li>3</li><li>3</li><li>3</li><li>3</li><li>3</li><li>3</li><li>3</li><li>3</li><li>3</li><li>3</li><li>1</li><li>1</li><li>1</li><li>1</li><li>1</li><li>1</li><li>1</li><li>1</li><li>1</li><li>1</li><li>1</li><li>1</li><li>1</li><li>1</li><li>1</li><li>1</li><li>4</li><li>4</li><li>4</li><li>4</li><li>4</li><li>4</li><li>4</li><li>4</li><li>4</li><li>4</li><li>4</li><li>4</li><li>4</li><li>4</li><li>4</li><li>4</li><li>4</li><li>4</li><li>4</li><li>4</li><li>4</li><li>4</li><li>4</li><li>4</li><li>4</li><li>2</li><li>2</li><li>2</li><li>2</li><li>2</li><li>2</li><li>2</li><li>2</li><li>2</li><li>2</li><li>2</li><li>2</li><li>2</li><li>2</li><li>2</li><li>2</li><li>2</li><li>2</li><li>2</li><li>2</li><li>2</li><li>2</li><li>2</li><li>2</li><li>2</li><li>2</li><li>2</li><li>2</li><li>2</li><li>2</li><li>2</li><li>2</li><li>4</li><li>4</li><li>4</li><li>4</li><li>4</li><li>4</li><li>4</li><li>4</li><li>4</li><li>4</li><li>4</li><li>4</li><li>4</li><li>4</li><li>4</li><li>4</li><li>4</li><li>4</li><li>4</li><li>4</li><li>4</li><li>4</li><li>4</li><li>4</li><li>4</li><li>4</li><li>4</li><li>4</li><li>4</li><li>4</li><li>4</li></ol>\n"
      ],
      "text/latex": [
       "\\begin{enumerate*}\n",
       "\\item 4\n",
       "\\item 4\n",
       "\\item 4\n",
       "\\item 4\n",
       "\\item 4\n",
       "\\item 4\n",
       "\\item 4\n",
       "\\item 4\n",
       "\\item 4\n",
       "\\item 4\n",
       "\\item 4\n",
       "\\item 4\n",
       "\\item 4\n",
       "\\item 4\n",
       "\\item 4\n",
       "\\item 4\n",
       "\\item 4\n",
       "\\item 4\n",
       "\\item 4\n",
       "\\item 4\n",
       "\\item 4\n",
       "\\item 4\n",
       "\\item 4\n",
       "\\item 4\n",
       "\\item 4\n",
       "\\item 4\n",
       "\\item 4\n",
       "\\item 4\n",
       "\\item 4\n",
       "\\item 2\n",
       "\\item 2\n",
       "\\item 2\n",
       "\\item 2\n",
       "\\item 2\n",
       "\\item 2\n",
       "\\item 2\n",
       "\\item 2\n",
       "\\item 2\n",
       "\\item 2\n",
       "\\item 2\n",
       "\\item 2\n",
       "\\item 2\n",
       "\\item 2\n",
       "\\item 2\n",
       "\\item 2\n",
       "\\item 2\n",
       "\\item 2\n",
       "\\item 2\n",
       "\\item 2\n",
       "\\item 2\n",
       "\\item 2\n",
       "\\item 2\n",
       "\\item 2\n",
       "\\item 3\n",
       "\\item 3\n",
       "\\item 3\n",
       "\\item 3\n",
       "\\item 3\n",
       "\\item 3\n",
       "\\item 3\n",
       "\\item 3\n",
       "\\item 3\n",
       "\\item 3\n",
       "\\item 3\n",
       "\\item 3\n",
       "\\item 3\n",
       "\\item 3\n",
       "\\item 3\n",
       "\\item 3\n",
       "\\item 3\n",
       "\\item 3\n",
       "\\item 3\n",
       "\\item 1\n",
       "\\item 1\n",
       "\\item 1\n",
       "\\item 1\n",
       "\\item 1\n",
       "\\item 1\n",
       "\\item 1\n",
       "\\item 1\n",
       "\\item 1\n",
       "\\item 1\n",
       "\\item 1\n",
       "\\item 1\n",
       "\\item 1\n",
       "\\item 1\n",
       "\\item 1\n",
       "\\item 1\n",
       "\\item 4\n",
       "\\item 4\n",
       "\\item 4\n",
       "\\item 4\n",
       "\\item 4\n",
       "\\item 4\n",
       "\\item 4\n",
       "\\item 4\n",
       "\\item 4\n",
       "\\item 4\n",
       "\\item 4\n",
       "\\item 4\n",
       "\\item 4\n",
       "\\item 4\n",
       "\\item 4\n",
       "\\item 4\n",
       "\\item 4\n",
       "\\item 4\n",
       "\\item 4\n",
       "\\item 4\n",
       "\\item 4\n",
       "\\item 4\n",
       "\\item 4\n",
       "\\item 4\n",
       "\\item 4\n",
       "\\item 2\n",
       "\\item 2\n",
       "\\item 2\n",
       "\\item 2\n",
       "\\item 2\n",
       "\\item 2\n",
       "\\item 2\n",
       "\\item 2\n",
       "\\item 2\n",
       "\\item 2\n",
       "\\item 2\n",
       "\\item 2\n",
       "\\item 2\n",
       "\\item 2\n",
       "\\item 2\n",
       "\\item 2\n",
       "\\item 2\n",
       "\\item 2\n",
       "\\item 2\n",
       "\\item 2\n",
       "\\item 2\n",
       "\\item 2\n",
       "\\item 2\n",
       "\\item 2\n",
       "\\item 2\n",
       "\\item 2\n",
       "\\item 2\n",
       "\\item 2\n",
       "\\item 2\n",
       "\\item 2\n",
       "\\item 2\n",
       "\\item 2\n",
       "\\item 4\n",
       "\\item 4\n",
       "\\item 4\n",
       "\\item 4\n",
       "\\item 4\n",
       "\\item 4\n",
       "\\item 4\n",
       "\\item 4\n",
       "\\item 4\n",
       "\\item 4\n",
       "\\item 4\n",
       "\\item 4\n",
       "\\item 4\n",
       "\\item 4\n",
       "\\item 4\n",
       "\\item 4\n",
       "\\item 4\n",
       "\\item 4\n",
       "\\item 4\n",
       "\\item 4\n",
       "\\item 4\n",
       "\\item 4\n",
       "\\item 4\n",
       "\\item 4\n",
       "\\item 4\n",
       "\\item 4\n",
       "\\item 4\n",
       "\\item 4\n",
       "\\item 4\n",
       "\\item 4\n",
       "\\item 4\n",
       "\\end{enumerate*}\n"
      ],
      "text/markdown": [
       "1. 4\n",
       "2. 4\n",
       "3. 4\n",
       "4. 4\n",
       "5. 4\n",
       "6. 4\n",
       "7. 4\n",
       "8. 4\n",
       "9. 4\n",
       "10. 4\n",
       "11. 4\n",
       "12. 4\n",
       "13. 4\n",
       "14. 4\n",
       "15. 4\n",
       "16. 4\n",
       "17. 4\n",
       "18. 4\n",
       "19. 4\n",
       "20. 4\n",
       "21. 4\n",
       "22. 4\n",
       "23. 4\n",
       "24. 4\n",
       "25. 4\n",
       "26. 4\n",
       "27. 4\n",
       "28. 4\n",
       "29. 4\n",
       "30. 2\n",
       "31. 2\n",
       "32. 2\n",
       "33. 2\n",
       "34. 2\n",
       "35. 2\n",
       "36. 2\n",
       "37. 2\n",
       "38. 2\n",
       "39. 2\n",
       "40. 2\n",
       "41. 2\n",
       "42. 2\n",
       "43. 2\n",
       "44. 2\n",
       "45. 2\n",
       "46. 2\n",
       "47. 2\n",
       "48. 2\n",
       "49. 2\n",
       "50. 2\n",
       "51. 2\n",
       "52. 2\n",
       "53. 2\n",
       "54. 3\n",
       "55. 3\n",
       "56. 3\n",
       "57. 3\n",
       "58. 3\n",
       "59. 3\n",
       "60. 3\n",
       "61. 3\n",
       "62. 3\n",
       "63. 3\n",
       "64. 3\n",
       "65. 3\n",
       "66. 3\n",
       "67. 3\n",
       "68. 3\n",
       "69. 3\n",
       "70. 3\n",
       "71. 3\n",
       "72. 3\n",
       "73. 1\n",
       "74. 1\n",
       "75. 1\n",
       "76. 1\n",
       "77. 1\n",
       "78. 1\n",
       "79. 1\n",
       "80. 1\n",
       "81. 1\n",
       "82. 1\n",
       "83. 1\n",
       "84. 1\n",
       "85. 1\n",
       "86. 1\n",
       "87. 1\n",
       "88. 1\n",
       "89. 4\n",
       "90. 4\n",
       "91. 4\n",
       "92. 4\n",
       "93. 4\n",
       "94. 4\n",
       "95. 4\n",
       "96. 4\n",
       "97. 4\n",
       "98. 4\n",
       "99. 4\n",
       "100. 4\n",
       "101. 4\n",
       "102. 4\n",
       "103. 4\n",
       "104. 4\n",
       "105. 4\n",
       "106. 4\n",
       "107. 4\n",
       "108. 4\n",
       "109. 4\n",
       "110. 4\n",
       "111. 4\n",
       "112. 4\n",
       "113. 4\n",
       "114. 2\n",
       "115. 2\n",
       "116. 2\n",
       "117. 2\n",
       "118. 2\n",
       "119. 2\n",
       "120. 2\n",
       "121. 2\n",
       "122. 2\n",
       "123. 2\n",
       "124. 2\n",
       "125. 2\n",
       "126. 2\n",
       "127. 2\n",
       "128. 2\n",
       "129. 2\n",
       "130. 2\n",
       "131. 2\n",
       "132. 2\n",
       "133. 2\n",
       "134. 2\n",
       "135. 2\n",
       "136. 2\n",
       "137. 2\n",
       "138. 2\n",
       "139. 2\n",
       "140. 2\n",
       "141. 2\n",
       "142. 2\n",
       "143. 2\n",
       "144. 2\n",
       "145. 2\n",
       "146. 4\n",
       "147. 4\n",
       "148. 4\n",
       "149. 4\n",
       "150. 4\n",
       "151. 4\n",
       "152. 4\n",
       "153. 4\n",
       "154. 4\n",
       "155. 4\n",
       "156. 4\n",
       "157. 4\n",
       "158. 4\n",
       "159. 4\n",
       "160. 4\n",
       "161. 4\n",
       "162. 4\n",
       "163. 4\n",
       "164. 4\n",
       "165. 4\n",
       "166. 4\n",
       "167. 4\n",
       "168. 4\n",
       "169. 4\n",
       "170. 4\n",
       "171. 4\n",
       "172. 4\n",
       "173. 4\n",
       "174. 4\n",
       "175. 4\n",
       "176. 4\n",
       "\n",
       "\n"
      ],
      "text/plain": [
       "  [1] 4 4 4 4 4 4 4 4 4 4 4 4 4 4 4 4 4 4 4 4 4 4 4 4 4 4 4 4 4 2 2 2 2 2 2 2 2\n",
       " [38] 2 2 2 2 2 2 2 2 2 2 2 2 2 2 2 2 3 3 3 3 3 3 3 3 3 3 3 3 3 3 3 3 3 3 3 1 1\n",
       " [75] 1 1 1 1 1 1 1 1 1 1 1 1 1 1 4 4 4 4 4 4 4 4 4 4 4 4 4 4 4 4 4 4 4 4 4 4 4\n",
       "[112] 4 4 2 2 2 2 2 2 2 2 2 2 2 2 2 2 2 2 2 2 2 2 2 2 2 2 2 2 2 2 2 2 2 2 4 4 4\n",
       "[149] 4 4 4 4 4 4 4 4 4 4 4 4 4 4 4 4 4 4 4 4 4 4 4 4 4 4 4 4"
      ]
     },
     "metadata": {},
     "output_type": "display_data"
    }
   ],
   "source": [
    "M_sc_kmeans$cluster"
   ]
  },
  {
   "cell_type": "code",
   "execution_count": 91,
   "metadata": {
    "collapsed": true
   },
   "outputs": [
    {
     "data": {
      "text/html": [
       "<table>\n",
       "<caption>A matrix: 1 × 2 of type dbl</caption>\n",
       "<tbody>\n",
       "\t<tr><th scope=row>vec</th><td>73</td><td>88</td></tr>\n",
       "</tbody>\n",
       "</table>\n"
      ],
      "text/latex": [
       "A matrix: 1 × 2 of type dbl\n",
       "\\begin{tabular}{r|ll}\n",
       "\tvec & 73 & 88\\\\\n",
       "\\end{tabular}\n"
      ],
      "text/markdown": [
       "\n",
       "A matrix: 1 × 2 of type dbl\n",
       "\n",
       "| vec | 73 | 88 |\n",
       "\n"
      ],
      "text/plain": [
       "    [,1] [,2]\n",
       "vec 73   88  "
      ]
     },
     "metadata": {},
     "output_type": "display_data"
    },
    {
     "data": {
      "text/html": [
       "<table>\n",
       "<caption>A matrix: 2 × 2 of type dbl</caption>\n",
       "<tbody>\n",
       "\t<tr><th scope=row>vec</th><td> 30</td><td> 53</td></tr>\n",
       "\t<tr><th scope=row>vec</th><td>114</td><td>145</td></tr>\n",
       "</tbody>\n",
       "</table>\n"
      ],
      "text/latex": [
       "A matrix: 2 × 2 of type dbl\n",
       "\\begin{tabular}{r|ll}\n",
       "\tvec &  30 &  53\\\\\n",
       "\tvec & 114 & 145\\\\\n",
       "\\end{tabular}\n"
      ],
      "text/markdown": [
       "\n",
       "A matrix: 2 × 2 of type dbl\n",
       "\n",
       "| vec |  30 |  53 |\n",
       "| vec | 114 | 145 |\n",
       "\n"
      ],
      "text/plain": [
       "    [,1] [,2]\n",
       "vec  30   53 \n",
       "vec 114  145 "
      ]
     },
     "metadata": {},
     "output_type": "display_data"
    },
    {
     "data": {
      "text/html": [
       "<table>\n",
       "<caption>A matrix: 1 × 2 of type dbl</caption>\n",
       "<tbody>\n",
       "\t<tr><th scope=row>vec</th><td>54</td><td>72</td></tr>\n",
       "</tbody>\n",
       "</table>\n"
      ],
      "text/latex": [
       "A matrix: 1 × 2 of type dbl\n",
       "\\begin{tabular}{r|ll}\n",
       "\tvec & 54 & 72\\\\\n",
       "\\end{tabular}\n"
      ],
      "text/markdown": [
       "\n",
       "A matrix: 1 × 2 of type dbl\n",
       "\n",
       "| vec | 54 | 72 |\n",
       "\n"
      ],
      "text/plain": [
       "    [,1] [,2]\n",
       "vec 54   72  "
      ]
     },
     "metadata": {},
     "output_type": "display_data"
    },
    {
     "data": {
      "text/html": [
       "<table>\n",
       "<caption>A matrix: 3 × 2 of type dbl</caption>\n",
       "<tbody>\n",
       "\t<tr><th scope=row>vec</th><td>  1</td><td> 29</td></tr>\n",
       "\t<tr><th scope=row>vec</th><td> 89</td><td>113</td></tr>\n",
       "\t<tr><th scope=row>vec</th><td>146</td><td>176</td></tr>\n",
       "</tbody>\n",
       "</table>\n"
      ],
      "text/latex": [
       "A matrix: 3 × 2 of type dbl\n",
       "\\begin{tabular}{r|ll}\n",
       "\tvec &   1 &  29\\\\\n",
       "\tvec &  89 & 113\\\\\n",
       "\tvec & 146 & 176\\\\\n",
       "\\end{tabular}\n"
      ],
      "text/markdown": [
       "\n",
       "A matrix: 3 × 2 of type dbl\n",
       "\n",
       "| vec |   1 |  29 |\n",
       "| vec |  89 | 113 |\n",
       "| vec | 146 | 176 |\n",
       "\n"
      ],
      "text/plain": [
       "    [,1] [,2]\n",
       "vec   1   29 \n",
       "vec  89  113 \n",
       "vec 146  176 "
      ]
     },
     "metadata": {},
     "output_type": "display_data"
    }
   ],
   "source": [
    "recog_block(which(M_sc_kmeans$cluster == 1))\n",
    "recog_block(which(M_sc_kmeans$cluster == 2))\n",
    "recog_block(which(M_sc_kmeans$cluster == 3))\n",
    "recog_block(which(M_sc_kmeans$cluster == 4))\n",
    "#recog_block(which(M_sc_kmeans$cluster == 5))"
   ]
  },
  {
   "cell_type": "markdown",
   "metadata": {},
   "source": [
    "## Can we recover the clusters from distance matrix?"
   ]
  },
  {
   "cell_type": "code",
   "execution_count": 121,
   "metadata": {},
   "outputs": [
    {
     "data": {
      "text/html": [
       "176"
      ],
      "text/latex": [
       "176"
      ],
      "text/markdown": [
       "176"
      ],
      "text/plain": [
       "[1] 176"
      ]
     },
     "metadata": {},
     "output_type": "display_data"
    }
   ],
   "source": [
    "og_dist=npyLoad('../Data/dist/all_l1-thres-geo.npy')\n",
    "nrow(og_dist)"
   ]
  },
  {
   "cell_type": "code",
   "execution_count": 128,
   "metadata": {},
   "outputs": [
    {
     "data": {
      "image/png": "[encoded data removed]",
      "text/plain": [
       "Plot with title “”"
      ]
     },
     "metadata": {
      "image/png": {
       "height": 420,
       "width": 420
      }
     },
     "output_type": "display_data"
    }
   ],
   "source": [
    "hcl=hclust(as.dist(og_dist),method='complete')\n",
    "#pdf(\"../Imagenes/thesis/dendo_rows.pdf\",width=7,height=8)\n",
    "plot(hcl,sub=NULL,xlab=NULL,main=\"\")\n",
    "#dev.off()"
   ]
  },
  {
   "cell_type": "code",
   "execution_count": 129,
   "metadata": {},
   "outputs": [],
   "source": [
    "#eps1=cutoff_first_threshold(hcl,adjust=1)\n",
    "eps1=400\n",
    "vector1=cutree(hcl, h = eps1)\n",
    "c1=length(unique(vector1))\n",
    "clusters1=list()\n",
    "for (i in 1:c1){\n",
    "    clusters1[[i]]=which(vector1 == i, arr.ind = TRUE)\n",
    "}"
   ]
  },
  {
   "cell_type": "code",
   "execution_count": 130,
   "metadata": {},
   "outputs": [
    {
     "data": {
      "text/html": [
       "<ol>\n",
       "\t<li><table>\n",
       "<caption>A matrix: 3 × 2 of type dbl</caption>\n",
       "<tbody>\n",
       "\t<tr><th scope=row>vec</th><td>  1</td><td> 31</td></tr>\n",
       "\t<tr><th scope=row>vec</th><td> 80</td><td>114</td></tr>\n",
       "\t<tr><th scope=row>vec</th><td>146</td><td>176</td></tr>\n",
       "</tbody>\n",
       "</table>\n",
       "</li>\n",
       "\t<li><table>\n",
       "<caption>A matrix: 1 × 2 of type dbl</caption>\n",
       "<tbody>\n",
       "\t<tr><th scope=row>vec</th><td>32</td><td>59</td></tr>\n",
       "</tbody>\n",
       "</table>\n",
       "</li>\n",
       "\t<li><table>\n",
       "<caption>A matrix: 2 × 2 of type dbl</caption>\n",
       "<tbody>\n",
       "\t<tr><th scope=row>vec</th><td> 60</td><td> 79</td></tr>\n",
       "\t<tr><th scope=row>vec</th><td>115</td><td>145</td></tr>\n",
       "</tbody>\n",
       "</table>\n",
       "</li>\n",
       "</ol>\n"
      ],
      "text/latex": [
       "\\begin{enumerate}\n",
       "\\item A matrix: 3 × 2 of type dbl\n",
       "\\begin{tabular}{r|ll}\n",
       "\tvec &   1 &  31\\\\\n",
       "\tvec &  80 & 114\\\\\n",
       "\tvec & 146 & 176\\\\\n",
       "\\end{tabular}\n",
       "\n",
       "\\item A matrix: 1 × 2 of type dbl\n",
       "\\begin{tabular}{r|ll}\n",
       "\tvec & 32 & 59\\\\\n",
       "\\end{tabular}\n",
       "\n",
       "\\item A matrix: 2 × 2 of type dbl\n",
       "\\begin{tabular}{r|ll}\n",
       "\tvec &  60 &  79\\\\\n",
       "\tvec & 115 & 145\\\\\n",
       "\\end{tabular}\n",
       "\n",
       "\\end{enumerate}\n"
      ],
      "text/markdown": [
       "1. \n",
       "A matrix: 3 × 2 of type dbl\n",
       "\n",
       "| vec |   1 |  31 |\n",
       "| vec |  80 | 114 |\n",
       "| vec | 146 | 176 |\n",
       "\n",
       "\n",
       "2. \n",
       "A matrix: 1 × 2 of type dbl\n",
       "\n",
       "| vec | 32 | 59 |\n",
       "\n",
       "\n",
       "3. \n",
       "A matrix: 2 × 2 of type dbl\n",
       "\n",
       "| vec |  60 |  79 |\n",
       "| vec | 115 | 145 |\n",
       "\n",
       "\n",
       "\n",
       "\n"
      ],
      "text/plain": [
       "[[1]]\n",
       "    [,1] [,2]\n",
       "vec    1   31\n",
       "vec   80  114\n",
       "vec  146  176\n",
       "\n",
       "[[2]]\n",
       "    [,1] [,2]\n",
       "vec   32   59\n",
       "\n",
       "[[3]]\n",
       "    [,1] [,2]\n",
       "vec   60   79\n",
       "vec  115  145\n"
      ]
     },
     "metadata": {},
     "output_type": "display_data"
    }
   ],
   "source": [
    "mega_blocks1=lapply(clusters1,recog_block)\n",
    "mega_blocks1"
   ]
  },
  {
   "cell_type": "code",
   "execution_count": 22,
   "metadata": {},
   "outputs": [
    {
     "data": {
      "text/html": [
       "<style>\n",
       ".list-inline {list-style: none; margin:0; padding: 0}\n",
       ".list-inline>li {display: inline-block}\n",
       ".list-inline>li:not(:last-child)::after {content: \"\\00b7\"; padding: 0 .5ex}\n",
       "</style>\n",
       "<ol class=list-inline><li>2</li><li>2</li><li>5</li><li>6</li><li>7</li></ol>\n"
      ],
      "text/latex": [
       "\\begin{enumerate*}\n",
       "\\item 2\n",
       "\\item 2\n",
       "\\item 5\n",
       "\\item 6\n",
       "\\item 7\n",
       "\\end{enumerate*}\n"
      ],
      "text/markdown": [
       "1. 2\n",
       "2. 2\n",
       "3. 5\n",
       "4. 6\n",
       "5. 7\n",
       "\n",
       "\n"
      ],
      "text/plain": [
       "[1] 2 2 5 6 7"
      ]
     },
     "metadata": {},
     "output_type": "display_data"
    }
   ],
   "source": [
    "sort(c(2,5,6,2,7))"
   ]
  }
 ],
 "metadata": {
  "kernelspec": {
   "display_name": "R",
   "language": "R",
   "name": "ir"
  },
  "language_info": {
   "codemirror_mode": "r",
   "file_extension": ".r",
   "mimetype": "text/x-r-source",
   "name": "R",
   "pygments_lexer": "r",
   "version": "3.6.3"
  }
 },
 "nbformat": 4,
 "nbformat_minor": 4
}
